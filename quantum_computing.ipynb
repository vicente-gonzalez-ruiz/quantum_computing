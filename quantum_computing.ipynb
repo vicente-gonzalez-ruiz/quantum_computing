{
 "cells": [
  {
   "cell_type": "code",
   "execution_count": null,
   "id": "152f8825",
   "metadata": {},
   "outputs": [],
   "source": [
    "!pip install qiskit\n",
    "!pip install git+https://github.com/qiskit-community/qiskit-textbook.git#subdirectory=qiskit-textbook-src\n",
    "!pip install numexpr\n",
    "!pip install pylatexenc\n",
    "!pip install seaborn"
   ]
  },
  {
   "cell_type": "markdown",
   "id": "44ffcb82",
   "metadata": {},
   "source": [
    "# Quantum Computing\n",
    "\n",
    "Quantum Computing (QC) takes advantage of the features of the Quantum Mechanics to provide massively parallel computing resources to solve certain problems."
   ]
  },
  {
   "cell_type": "markdown",
   "id": "432d2994",
   "metadata": {},
   "source": [
    "## Some words about [Quantum Mechanics](https://en.wikipedia.org/wiki/Introduction_to_quantum_mechanics)\n",
    "\n",
    "Quantum Mechanics (QM) is the study of matter and its interactions with energy on the scale of atomic and subatomic particles. QM shows that many properties of objects, such as position, speed, and angular momentum, that appeared continuous in the zoomed-out view of classical mechanics, turn out to be (in the very tiny, zoomed-in scale of QM) quantized. Such properties of elementary particles are required to take on one of a set of small, discrete allowable values, and since the gap between these values is also small, the discontinuities are only apparent at very tiny (atomic) scales.\n",
    "\n",
    "Many aspects of QM are counterintuitive and can seem paradoxical because they describe behavior quite different from that seen at larger scales. For example, the [uncertainty principle](https://en.wikipedia.org/wiki/Uncertainty_principle) of QM means that the more closely one pins down one measurement (such as the position of a particle), the less accurate another complementary measurement pertaining to the same particle (such as its speed) must become. The uncertainty principle shows mathematically that the product of the uncertainty in the position and momentum of a particle (momentum is velocity multiplied by mass) could never be less than a certain value, and that this value is related to Planck's constant. \n",
    "\n",
    "Another example is[entanglement](https://en.wikipedia.org/wiki/Quantum_entanglement), in which a measurement of any two-valued state of a particle (such as light polarized up or down) made on either of two \"entangled\" particles that are very far apart causes a subsequent measurement on the other particle to always be the other of the two values (such as polarized in the opposite direction). A final example is superfluidity, in which a container of liquid helium, cooled down to near absolute zero in temperature spontaneously flows (slowly) up and over the opening of its container, against the force of gravity.\n",
    "\n",
    "In 1913 Niels Bohr proposed a new model of the atom that included quantized electron orbits: electrons still orbit the nucleus much as planets orbit around the sun, but they are permitted to inhabit only certain orbits, not to orbit at any arbitrary distance. When an atom emitted (or absorbed) energy, the electron did not move in a continuous trajectory from one orbit around the nucleus to another, as might be expected classically. Instead, the electron would jump instantaneously from one orbit to another, giving off the emitted light in the form of a photon. The electron's wavelength determines that only Bohr orbits of certain distances from the nucleus are possible. In turn, at any distance from the nucleus smaller than a certain value, it would be impossible to establish an orbit. The minimum possible distance from the nucleus is called the Bohr radius.\n",
    "\n",
    "In 1925, Erwin Schrödinger developed the equation that describes the behavior of a quantum-mechanical wave: the Schrödinger equation defines the permitted stationary states of a quantum system, and describes how the quantum state of a physical system changes in time. Afer a measurement, a wave function \"collapses\" means that a measurement has forced or converted a quantum (probabilistic or potential) state into a definite measured value. For example, before a photon actually \"shows up\" on a detection screen it can be described only with a set of probabilities for where it might show up. When it does appear, for instance in the CCD of an electronic camera, the time and space where it interacted with the device are known within very tight limits. However, the photon has disappeared in the process of being captured (measured), and its quantum wave function has disappeared with it. In its place, some macroscopic physical change in the detection screen has appeared, e.g., an exposed spot in a sheet of photographic film, or a change in electric potential in some cell of a CCD.\n",
    "\n",
    "In 1929, Louis de Broglie won the Nobel Prize in Physics for his prediction that matter acts as a wave (apart from acts a particles). This is known as the Wave–Particle Duality and there is an experiment the [Double-Slit Experiment](https://en.wikipedia.org/wiki/Introduction_to_quantum_mechanics#The_double-slit_experiment)) that show this. In this experiment, the \"quantum\" particle acts as a wave when passing through the double slits, but as a particle when it is detected.\n",
    "\n",
    "In 1931 Ralph Kronig originated the theory that particles such as atoms or electrons behave as if they rotate, or \"spin\", about an axis. Spin would account for the missing magnetic moment, and allow two electrons in the same orbital to occupy distinct quantum states if they \"spun\" in opposite directions, thus satisfying the exclusion principle. This can be seen in the Stern–Gerlach experiment. The Stern–Gerlach experiment demonstrates several important features of QM:\n",
    "\n",
    "* A feature of the natural world is quantized, and able to take only certain discrete values.\n",
    "* Particles possess an intrinsic angular momentum that is closely analogous to the angular momentum of a classically spinning object.\n",
    "* Measurement changes the system being measured in quantum mechanics. Only the spin of an object in one direction can be known, and observing the spin in another direction destroys the original information about the spin.\n",
    "* QM is probabilistic: whether the spin of any individual atom sent into the apparatus is positive or negative is random.\n",
    "\n"
   ]
  },
  {
   "cell_type": "markdown",
   "id": "c73275da",
   "metadata": {},
   "source": [
    "## Basics of [Quantum Computing](https://learn.qiskit.org/course/introduction)\n",
    "\n",
    "1. A quantum object (for example, a quantum bit (qubit)) is at the same time wave and particle. In fact, qubits operate like waves and are measured as particles. Ideally, the frequency components of the weaves should not change over time, at least without any external influence. However, due to physical issues this is not true and the quantum systems has a feature known as the **coherence time** that quantifies how long the state of the qubits remain measurable. Using the current technology, the coherence time is at most of fome seconds.\n",
    "\n",
    "2. At least with the current technology, when a measurement is performed on a qubit, the wave is transformed into a particle (for example, a photon) and some characteristic(s) of the original wave is(are) lost. For this reason, **the qubits cannot replicated**. Remember, to know the state of a qubit, it must be measured, action that \"**collapses**\" the quantum state of the qubit (with a phase and an amplitude) to one of two posibilities, |0> or |1> depending on the distance of the state to such values, with some probability (the measurement is not deterministic). For this reason, the quantum machines must run the algorithms several times to increase the estatistical significance of the results. Notice that we cannot measure the phase of the qubit, only if is |0> or |1> with amplitude 1.\n",
    "\n",
    "2. The state of a single qubit can be expresed by a vector written in the form of\n",
    "$$\n",
    "|\\psi⟩\n",
    " =\\alpha_0|0⟩+\\alpha_1|1⟩\n",
    "$$\n",
    "where\n",
    "$$\n",
    "|0⟩ = \\begin{bmatrix}\n",
    "   1 \\\\\n",
    "   0\n",
    "\\end{bmatrix}\n",
    "\\qquad\\text{and}\\qquad\n",
    "|1⟩ = \\begin{bmatrix}\n",
    "   0 \\\\\n",
    "   1\n",
    "\\end{bmatrix}\n",
    "$$\n",
    "are orthonormal basis (a *computational basis* in the context of quantum computing), i.e., any other single-qubit state can be expressed as a linear combination of these basis vectors (which might correspond e.g. to the spin-up and spin-down states of an electron that can be controlled by microwave impulses). By definition, all states must be normalized in energy and must satisfy that $\\alpha_0^2 + \\alpha_1^2 = 1$.\n",
    "It can be also written that\n",
    "$$\n",
    "|\\psi⟩\n",
    " =\\alpha_0\\begin{bmatrix}\n",
    "   1 \\\\\n",
    "   0\n",
    "\\end{bmatrix}+\\alpha_1\\begin{bmatrix}\n",
    "   0 \\\\\n",
    "   1\n",
    "\\end{bmatrix} = \n",
    "\\begin{bmatrix}\n",
    "   \\alpha_0 \\\\\n",
    "   \\alpha_1\n",
    "\\end{bmatrix}.\n",
    "$$\n",
    "The coefficients $\\alpha_0$ and $\\alpha_1$ are, in general, complex numbers, and for one qubit represent the amplitude of the measurement of the bit 0 and 1, respectively. \n",
    "\n",
    "3. The vector that represents the state of a qubit (or a register of qubits) is called *state vector*. The components of a vector state indicate the amplitude of the corresponding measurement (for example, for two qubits, the amplitude of measuring 00, 01, 10 and 11), each one with a given probability that depends on the number of posible outcomes (1/4 for the case of two qubits). Notice that if the corresponding outcome has a 0 amplitude, it must not be considered in the computation of the probabilities (if we are simulating the quantum circuit). For example, if we have the state vector\n",
    "$$\n",
    "|\\psi\\rangle=\n",
    "\\begin{bmatrix}\n",
    "  \\sqrt{\\frac{1}{2}} \\\\\n",
    "  \\sqrt{\\frac{1}{2}} \\\\ \n",
    "  0 \\\\\n",
    "  0\n",
    "\\end{bmatrix} =\n",
    "\\sqrt{\\frac{1}{2}}(|00\\rangle + |01\\rangle),\n",
    "$$\n",
    "the probability of measuring the outcome 00 is $\\frac{1}{2}$, where\n",
    "$$\n",
    "|00\\rangle =\n",
    "\\begin{bmatrix}\n",
    "  1 \\\\ 0 \\\\ 0 \\\\ 0\n",
    "\\end{bmatrix},\n",
    "\\qquad\n",
    "|01\\rangle =\n",
    "\\begin{bmatrix}\n",
    "  0 \\\\ 1 \\\\ 0 \\\\ 0\n",
    "\\end{bmatrix},\n",
    "\\qquad\n",
    "|10\\rangle =\n",
    "\\begin{bmatrix}\n",
    "  0 \\\\ 0 \\\\ 1 \\\\ 0\n",
    "\\end{bmatrix}\\text{, and}\n",
    "\\qquad\n",
    "|11\\rangle =\n",
    "\\begin{bmatrix}\n",
    "  0 \\\\ 0 \\\\ 0 \\\\ 1\n",
    "\\end{bmatrix}\n",
    "$$\n",
    "form a *computational basis*. In this case, we say that the states $|00\\rangle$ and $|01\\rangle$ are *superposed*.\n",
    "\n",
    "3. The [tensor product](https://en.wikipedia.org/wiki/Tensor_product) (or Kronecker product), denoted by $\\otimes$, is used to combine quantum states, and it is the heart of digital simulators. The combined state for a qubit register is the tensor product of the constituent qubits. A theoretical example:\n",
    "$$\n",
    "| a b \\rangle =\n",
    "| a \\rangle \\otimes | b \\rangle =\n",
    "\\begin{bmatrix}\n",
    "  \\alpha_0 \\\\\n",
    "  \\alpha_1\n",
    "\\end{bmatrix} \\otimes\n",
    "\\begin{bmatrix}\n",
    "  \\beta_0 \\\\\n",
    "  \\beta_1\n",
    "\\end{bmatrix} =\n",
    "\\begin{bmatrix}\n",
    "  \\alpha_0\n",
    "  \\begin{bmatrix}\n",
    "    \\beta_0 \\\\\n",
    "    \\beta_1\n",
    "  \\end{bmatrix} \\\\\n",
    "  \\alpha_1\n",
    "  \\begin{bmatrix}\n",
    "    \\beta_0 \\\\\n",
    "    \\beta_1\n",
    "  \\end{bmatrix}\n",
    "\\end{bmatrix} =\n",
    "\\begin{bmatrix}\n",
    "  \\alpha_0\\beta_0 \\\\\n",
    "  \\alpha_0\\beta_1 \\\\ \n",
    "  \\alpha_1\\beta_0 \\\\\n",
    "  \\alpha_1\\beta_1\n",
    "\\end{bmatrix} =\n",
    "\\alpha_0\\beta_0|00⟩ + \\alpha_0\\beta_1|01⟩ + \\alpha_1\\beta_0|10⟩ + \\alpha_1\\beta_1|11⟩,\n",
    "$$\n",
    "where\n",
    "$$\n",
    "(\\alpha_0\\beta_0)^2 + (\\alpha_0\\beta_1)^2 + (\\alpha_1\\beta_0)^2 + (\\alpha_1\\beta_1)^2=1.\n",
    "$$\n",
    "Notice that the number of possible states of a quantum computer is $2^n$ where $n$ is the number of qubits. In other words, the number of coefficients (that represents the amplitude of the qubit of being in the corresponding state, for example, 00) of a *state vector* (that represents the state of a quantum register) is $2^n$ for $n$ qubits."
   ]
  },
  {
   "cell_type": "code",
   "execution_count": 2,
   "id": "e9a815bd",
   "metadata": {},
   "outputs": [
    {
     "name": "stdout",
     "output_type": "stream",
     "text": [
      "Statevector([1.+0.j, 0.+0.j],\n",
      "            dims=(2,))\n"
     ]
    }
   ],
   "source": [
    "# Show the state vector of qubit |0>:\n",
    "\n",
    "from qiskit import QuantumCircuit\n",
    "from qiskit.quantum_info import Statevector\n",
    "\n",
    "qc = QuantumCircuit(1) # Define one qubit\n",
    "sv = Statevector(qc)  # Compute the state vector\n",
    "print(sv.draw())"
   ]
  },
  {
   "cell_type": "code",
   "execution_count": 4,
   "id": "5eb978d0",
   "metadata": {},
   "outputs": [
    {
     "name": "stdout",
     "output_type": "stream",
     "text": [
      "Statevector([6.123234e-17+0.j, 0.000000e+00+0.j, 1.000000e+00+0.j,\n",
      "             0.000000e+00+0.j],\n",
      "            dims=(2, 2))\n"
     ]
    }
   ],
   "source": [
    "# Show the state vector of qubits |10>):\n",
    "\n",
    "from qiskit import QuantumCircuit\n",
    "from qiskit.quantum_info import Statevector\n",
    "\n",
    "qc = QuantumCircuit(2)   # Define one qubit\n",
    "qc.initialize([0, 1], 1) # The 1th qubit is |1⟩\n",
    "sv = Statevector(qc)     # Compute the state vector\n",
    "print(sv.draw())"
   ]
  },
  {
   "cell_type": "markdown",
   "id": "ea18294e",
   "metadata": {},
   "source": [
    "### What is different from clasical bits?\n",
    "\n",
    "* A (clasical) bit can be 0 or 1.\n",
    "* A qubit can be $|0⟩$ and $|1⟩$, at the same time thanks to the superposition. Therefore, with one qubit we represent \"in parallel\" a operation but for the two possible values. For example, denoting a quantum state $|\\psi⟩$ in a \"50% superposition\" of (being at the same time) $|0⟩$ and $|1⟩$ could be written as:\n",
    "\n",
    "$$\n",
    "|\\psi⟩=\n",
    "\\begin{bmatrix}\n",
    "   \\frac{1}{\\sqrt{2}} \\\\\n",
    "   \\frac{i}{\\sqrt{2}}\n",
    "\\end{bmatrix}=\n",
    "\\frac{1}{\\sqrt{2}}\\begin{bmatrix}\n",
    "   1 \\\\\n",
    "   0\n",
    "\\end{bmatrix} +\n",
    "\\frac{i}{\\sqrt{2}}\\begin{bmatrix}\n",
    "   0 \\\\\n",
    "   1\n",
    "\\end{bmatrix} =\n",
    "\\frac{1}{\\sqrt{2}}|0⟩ +\n",
    "\\frac{i}{\\sqrt{2}}|1⟩\n",
    "$$\n",
    "\n",
    "And this is true for concatenation of qubits bits.\n",
    "\n",
    "* Two bits can be 00, (or) 01, (or) 10 or 11.\n",
    "* Two qubits $|\\psi\\phi⟩=\\alpha_{00}|00⟩ + \\alpha_{01}|01⟩ + \\alpha_{10}|10⟩ + \\alpha_{11}|11⟩$ can be $|00⟩$, (and) $|01⟩$, (and) $|10⟩$, and $|11⟩$, at the same time. Therefore, we can be performing a operation to all the combinations of 2 qubits at the same time.\n",
    "\n",
    "Notice that a quantum state (the value of a qubit before a measurement, that always is a probabilistic process) can be a complex number."
   ]
  },
  {
   "cell_type": "markdown",
   "id": "242cd9b9",
   "metadata": {},
   "source": [
    "## After a measurement, calculating the probability ...\n",
    "... of finding the probability of $|\\psi⟩$ collapsing down to $|x⟩$:\n",
    "$$\n",
    "p(|x⟩)=| ⟨x|{\\psi}⟩|^2,\n",
    "$$\n",
    "where $x$ can take any value. For example:\n",
    "$$\n",
    "p(|0⟩)=|\\alpha_0|^2 =|\\frac{1}{\\sqrt2}|^2=\\frac{1}{2}\n",
    "\\qquad \\text{and} \\qquad\n",
    "p(|1⟩)=|\\alpha_1|^2 = |\\frac{i}{\\sqrt2}|^2=\\frac{1}{2}.\n",
    "$$\n",
    "\n",
    "Physically after the measurement, the qubit \"collapses\" into one of the two posibilities 0 or 1. In other words, we lost the superposition in case it exists."
   ]
  },
  {
   "cell_type": "markdown",
   "id": "db0dc96c",
   "metadata": {},
   "source": [
    "## Probabilities are not enough\n",
    "We cannot describe some quantum states using only probabilities, because qubits are waves and have amplitude and phase."
   ]
  },
  {
   "cell_type": "markdown",
   "id": "3ba2d2fe",
   "metadata": {},
   "source": [
    "## [The Bloch Sphere](https://en.wikipedia.org/wiki/Bloch_sphere)\n",
    "\n",
    "The Bloch sphere is a geometrical representation of the pure state space of a two-level quantum mechanical system (qubit). The north and south poles of the Bloch sphere are typically chosen to correspond to the standard basis vectors $ |0\\rangle $ and $ |1\\rangle $.\n",
    "\n",
    " The points on the surface of the sphere correspond to the pure states of the system, whereas the interior points correspond to the mixed states.\n",
    "\n",
    "A qubit can be expresed by an amplitude and a phase (i.e. a vector in the 3D space). One way of showing one qubit is the Bloch sphere:\n",
    "$$\n",
    "|\\psi⟩= cos(\\frac{{\\theta}}{2})|0⟩ + e^{i{\\phi}}sin(\\frac{{\\theta}}{2})|1⟩\n",
    "=\\begin{bmatrix}\n",
    "   cos(\\frac{{\\theta}}{2}) \\\\\n",
    "   e^{i{\\phi}}sin(\\frac{{\\theta}}{2})\n",
    "\\end{bmatrix} = \\begin{bmatrix}\n",
    "   \\alpha_0 \\\\\n",
    "   \\alpha_1\n",
    "\\end{bmatrix}.\n",
    "$$\n",
    "<img src=\"bloch_sphere.png\" width=\"300\"/>"
   ]
  },
  {
   "cell_type": "markdown",
   "id": "caeb4ec1",
   "metadata": {},
   "source": [
    "### Interaction between qubits\n",
    "\n",
    "When qubits interact with each other we must take into consideration that they behave like periodical 1D waves, with an amplitude (by definition, normalized between -1 and 1) and a phase. Therefore, some physical phenomena such as interferences can happen. For example, two qubits with the same amplitude can cancel each other if they have exactly the oposite plase."
   ]
  },
  {
   "cell_type": "markdown",
   "id": "15f1fb31",
   "metadata": {},
   "source": [
    "### Entangled states\n",
    "\n",
    "Two (or more) qubits are entangled when we cannot express their state using a (tensor) product of states. For example\n",
    "$$\n",
    "|\\Phi^+\\rangle =\n",
    "\\frac{1}{\\sqrt{2}}\n",
    "\\begin{bmatrix}\n",
    "  1 \\\\ 0 \\\\ 0 \\\\ 1\n",
    "\\end{bmatrix}\n",
    "$$\n",
    "is an entangled state because there is not product between two qubits that generates such state."
   ]
  },
  {
   "cell_type": "markdown",
   "id": "410e0cbd",
   "metadata": {},
   "source": [
    "### Define and measure a qubit (using [Qiskit](https://qiskit.org/))"
   ]
  },
  {
   "cell_type": "code",
   "execution_count": null,
   "id": "e0d72ea2",
   "metadata": {},
   "outputs": [],
   "source": [
    "from qiskit import *\n",
    "from qiskit.visualization import plot_histogram\n",
    "from qiskit import QuantumCircuit, execute, Aer\n",
    "from qiskit_textbook.widgets import plot_bloch_vector_spherical\n",
    "from qiskit.visualization import plot_state_city\n",
    "from qiskit.visualization import plot_state_paulivec, plot_state_hinton\n",
    "from qiskit.visualization import plot_state_qsphere\n",
    "from qiskit.quantum_info import Statevector\n",
    "from qiskit.tools.visualization import plot_bloch_multivector\n",
    "\n",
    "from math import sqrt, pi\n",
    "import numpy as np"
   ]
  },
  {
   "cell_type": "markdown",
   "id": "1cf0a323",
   "metadata": {},
   "source": [
    "#### Create a quantum circuit with one qubit"
   ]
  },
  {
   "cell_type": "code",
   "execution_count": null,
   "id": "e69c188c",
   "metadata": {},
   "outputs": [],
   "source": [
    "qc = QuantumCircuit(1 ,1) # Number of qubits, number of standard bits"
   ]
  },
  {
   "cell_type": "markdown",
   "id": "f602e6ce",
   "metadata": {},
   "source": [
    "#### Tell Qiskit how to simulate our circuit"
   ]
  },
  {
   "cell_type": "code",
   "execution_count": null,
   "id": "9acbd14b",
   "metadata": {},
   "outputs": [],
   "source": [
    "backend = Aer.get_backend('statevector_simulator')"
   ]
  },
  {
   "cell_type": "markdown",
   "id": "c3eebfc4",
   "metadata": {},
   "source": [
    "#### Define a $|0⟩$"
   ]
  },
  {
   "cell_type": "code",
   "execution_count": null,
   "id": "4eb7ccef",
   "metadata": {},
   "outputs": [],
   "source": [
    "qc.initialize([1, 0], 0) # The 0th qubit is |0⟩"
   ]
  },
  {
   "cell_type": "markdown",
   "id": "1cd2a6e2",
   "metadata": {},
   "source": [
    "#### \"Draw\" the circuit:"
   ]
  },
  {
   "cell_type": "code",
   "execution_count": null,
   "id": "8af51f56",
   "metadata": {},
   "outputs": [],
   "source": [
    "qc.measure([0], [0])\n",
    "qc.draw()"
   ]
  },
  {
   "cell_type": "code",
   "execution_count": null,
   "id": "32e55cf6",
   "metadata": {},
   "outputs": [],
   "source": [
    "qc = QuantumCircuit(1 ,1) \n",
    "qc.initialize([0, 1], 0) # The 0th qubit is |1⟩\n",
    "qc.measure([0], [0])\n",
    "qc.draw()"
   ]
  },
  {
   "cell_type": "markdown",
   "id": "b0c7c332",
   "metadata": {},
   "source": [
    "Notice that the \"0\" below \"M\" references the bit index, not the bit value!"
   ]
  },
  {
   "cell_type": "markdown",
   "id": "810958ed",
   "metadata": {},
   "source": [
    "#### Run the circuit"
   ]
  },
  {
   "cell_type": "code",
   "execution_count": null,
   "id": "a7559de8",
   "metadata": {},
   "outputs": [],
   "source": [
    "job = execute(qc, backend)\n",
    "result = job.result()\n",
    "quantum_state = result.get_statevector(qc, decimals=3)\n",
    "quantum_state"
   ]
  },
  {
   "cell_type": "code",
   "execution_count": null,
   "id": "62622d43",
   "metadata": {},
   "outputs": [],
   "source": [
    "plot_bloch_multivector(quantum_state)"
   ]
  },
  {
   "cell_type": "markdown",
   "id": "a1f10614",
   "metadata": {},
   "source": [
    "#### Measure the qubit (v1)"
   ]
  },
  {
   "cell_type": "code",
   "execution_count": null,
   "id": "d69d2497",
   "metadata": {},
   "outputs": [],
   "source": [
    "counts = result.get_counts()\n",
    "print(counts)"
   ]
  },
  {
   "cell_type": "markdown",
   "id": "86211bac",
   "metadata": {},
   "source": [
    "This indicates that the measured bit is 1 and that it has been measured just once."
   ]
  },
  {
   "cell_type": "code",
   "execution_count": null,
   "id": "4dd82ef1",
   "metadata": {},
   "outputs": [],
   "source": [
    "plot_histogram(counts)"
   ]
  },
  {
   "cell_type": "markdown",
   "id": "5f5fe467",
   "metadata": {},
   "source": [
    "## Quantum gates\n",
    "\n",
    "A quantum gates manipulates the spin/state of one or several qubits. In mathematical terms, quantum gates are linear operations. Because qubits are vectors, quantum gates are matrices. Quantum gates are reversible, meaning that applying a quantum gate allows you to figure out the original information as well. Notice that this implies that all of the matrices associated to a gate must be invertible (not singular). \n",
    "\n",
    "Each gate has a different \"transition matrix\" where the amplitudes of the qubits are modified.\n",
    "\n",
    "All gates must conserve the energy, i.e., the quantum gates are *unitary*."
   ]
  },
  {
   "cell_type": "markdown",
   "id": "d490a55f",
   "metadata": {},
   "source": [
    "### The identity ($\\mathbf{I}$) Gate\n",
    "\n",
    "$$\n",
    "\\mathbf{I}=\\begin{bmatrix}\n",
    "   1 & 0 \\\\\n",
    "  0 & 1\n",
    "\\end{bmatrix}\n",
    "$$\n",
    "\n",
    "Unitary operation that\n",
    "\n",
    "$$\n",
    "\\mathbf{X}|0⟩=\n",
    "\\begin{bmatrix}\n",
    "   1 & 0 \\\\\n",
    "   0 & 1\n",
    "\\end{bmatrix}\n",
    "\\begin{bmatrix}\n",
    "   1 \\\\\n",
    "   0\n",
    "\\end{bmatrix}=\n",
    "\\begin{bmatrix}\n",
    "   1 \\\\\n",
    "   0\n",
    "\\end{bmatrix}=\n",
    "|0⟩\n",
    "\\qquad\n",
    "\\mathbf{X}|1⟩=\n",
    "\\begin{bmatrix}\n",
    "   1 & 0 \\\\\n",
    "   0 & 1\n",
    "\\end{bmatrix}\n",
    "\\begin{bmatrix}\n",
    "   0 \\\\\n",
    "   1\n",
    "\\end{bmatrix}=\n",
    "\\begin{bmatrix}\n",
    "   0 \\\\\n",
    "   1\n",
    "\\end{bmatrix}=\n",
    "|1⟩\n",
    "$$\n",
    "\n",
    "or simply\n",
    "\n",
    "$$\n",
    "\\begin{array}{l}\n",
    "|0⟩ \\rightarrow |0⟩\\\\\n",
    "|1⟩ \\rightarrow |1⟩.\n",
    "\\end{array}\n",
    "$$\n",
    "\n",
    "If we analyze the $\\mathbf{I}$ transmition matrix, we see that it expresses the previous transisions for one qubit."
   ]
  },
  {
   "cell_type": "code",
   "execution_count": null,
   "id": "8b9bf83c",
   "metadata": {},
   "outputs": [],
   "source": [
    "qc = QuantumCircuit(1)\n",
    "backend = Aer.get_backend('statevector_simulator')\n",
    "qc.initialize([1, 0], 0) # The 0th qubit is |0⟩\n",
    "qc.i(qubit=0)\n",
    "qc.draw(output='mpl')"
   ]
  },
  {
   "cell_type": "code",
   "execution_count": null,
   "id": "ab6fefac",
   "metadata": {
    "scrolled": true
   },
   "outputs": [],
   "source": [
    "job = execute(qc, backend)\n",
    "result = job.result()\n",
    "quantum_state = result.get_statevector(qc, decimals=3)\n",
    "quantum_state"
   ]
  },
  {
   "cell_type": "code",
   "execution_count": null,
   "id": "797cb330",
   "metadata": {},
   "outputs": [],
   "source": [
    "counts = result.get_counts()\n",
    "plot_histogram(counts)"
   ]
  },
  {
   "cell_type": "code",
   "execution_count": null,
   "id": "506d754b",
   "metadata": {},
   "outputs": [],
   "source": [
    "qc.measure_all()\n",
    "qc.draw(output='mpl')"
   ]
  },
  {
   "cell_type": "markdown",
   "id": "7cdc96ad",
   "metadata": {},
   "source": [
    "### The Pauli $\\mathbf{X}$ gate\n",
    "\n",
    "$$\n",
    "\\mathbf{X}=\\begin{bmatrix}\n",
    "   0 & 1 \\\\\n",
    "   1 & 0\n",
    "\\end{bmatrix}\n",
    "$$\n",
    "\n",
    "This is a \"not\" gate:\n",
    "\n",
    "$$\n",
    "\\mathbf{X}|0⟩=\n",
    "\\begin{bmatrix}\n",
    "   0 & 1 \\\\\n",
    "   1 & 0\n",
    "\\end{bmatrix}\n",
    "\\begin{bmatrix}\n",
    "   1 \\\\\n",
    "   0\n",
    "\\end{bmatrix}=\n",
    "\\begin{bmatrix}\n",
    "   0 \\\\\n",
    "   1\n",
    "\\end{bmatrix}=\n",
    "|1⟩\n",
    "\\qquad\n",
    "\\mathbf{X}|1⟩=\n",
    "\\begin{bmatrix}\n",
    "   0 & 1 \\\\\n",
    "   1 & 0\n",
    "\\end{bmatrix}\n",
    "\\begin{bmatrix}\n",
    "   0 \\\\\n",
    "   1\n",
    "\\end{bmatrix}=\n",
    "\\begin{bmatrix}\n",
    "   1 \\\\\n",
    "   0\n",
    "\\end{bmatrix}=\n",
    "|0⟩\n",
    "$$\n",
    "\n",
    "Geometrically (in the Bloch sphere), we can visualize the $\\mathbf{X}$ gate rotating a quantum state by π radians about the X-axis."
   ]
  },
  {
   "cell_type": "markdown",
   "id": "daf9e40e",
   "metadata": {},
   "source": [
    "### Let's compute $\\mathbf{X}|0⟩$"
   ]
  },
  {
   "cell_type": "code",
   "execution_count": null,
   "id": "18cff4f0",
   "metadata": {},
   "outputs": [],
   "source": [
    "qc = QuantumCircuit(1)\n",
    "backend = Aer.get_backend('statevector_simulator')\n",
    "qc.initialize([1, 0], 0) # The 0th qubit is |0⟩\n",
    "qc.x(qubit=0)"
   ]
  },
  {
   "cell_type": "code",
   "execution_count": null,
   "id": "48ed7461",
   "metadata": {},
   "outputs": [],
   "source": [
    "job = execute(qc, backend)\n",
    "result = job.result()\n",
    "quantum_state = result.get_statevector(qc, decimals=3)\n",
    "quantum_state"
   ]
  },
  {
   "cell_type": "code",
   "execution_count": null,
   "id": "7dbfe5d2",
   "metadata": {},
   "outputs": [],
   "source": [
    "counts = result.get_counts()\n",
    "plot_histogram(counts)"
   ]
  },
  {
   "cell_type": "markdown",
   "id": "ceeecd95",
   "metadata": {},
   "source": [
    "### Let's compute $\\mathbf{X}|1⟩$"
   ]
  },
  {
   "cell_type": "code",
   "execution_count": null,
   "id": "a456d540",
   "metadata": {},
   "outputs": [],
   "source": [
    "qc = QuantumCircuit(1)\n",
    "backend = Aer.get_backend('statevector_simulator')\n",
    "qc.initialize([0, 1], 0) # The 0th qubit is |0⟩\n",
    "qc.x(qubit=0)"
   ]
  },
  {
   "cell_type": "code",
   "execution_count": null,
   "id": "511d4c38",
   "metadata": {},
   "outputs": [],
   "source": [
    "job = execute(qc, backend)\n",
    "result = job.result()\n",
    "quantum_state = result.get_statevector(qc, decimals=3)\n",
    "quantum_state"
   ]
  },
  {
   "cell_type": "code",
   "execution_count": null,
   "id": "1e26d283",
   "metadata": {},
   "outputs": [],
   "source": [
    "counts = result.get_counts()\n",
    "plot_histogram(counts)"
   ]
  },
  {
   "cell_type": "markdown",
   "id": "7b06e47e",
   "metadata": {},
   "source": [
    "### The Pauli Y Gate\n",
    "\n",
    "$$\n",
    "Y=\\begin{bmatrix}\n",
    "   0 & -i \\\\\n",
    "  i & 0\n",
    "\\end{bmatrix}\n",
    "$$\n",
    "\n",
    "The Y gate rotate a quantum state by $\\pi$ radians about the $y$ axe. \n",
    "\n",
    "$$\n",
    "Y|0⟩=\n",
    "\\begin{bmatrix}\n",
    "   0 & -i \\\\\n",
    "   i & 0\n",
    "\\end{bmatrix}\n",
    "\\begin{bmatrix}\n",
    "   1 \\\\\n",
    "   0\n",
    "\\end{bmatrix}=\n",
    "\\begin{bmatrix}\n",
    "   0 \\\\\n",
    "   i\n",
    "\\end{bmatrix}\n",
    "\\qquad\n",
    "Y|1⟩=\n",
    "\\begin{bmatrix}\n",
    "   0 & -i \\\\\n",
    "   i & 0\n",
    "\\end{bmatrix}\n",
    "\\begin{bmatrix}\n",
    "   0 \\\\\n",
    "   1\n",
    "\\end{bmatrix}=\n",
    "\\begin{bmatrix}\n",
    "   -i \\\\\n",
    "   0\n",
    "\\end{bmatrix}\n",
    "$$"
   ]
  },
  {
   "cell_type": "code",
   "execution_count": null,
   "id": "916fcd9b",
   "metadata": {},
   "outputs": [],
   "source": [
    "qc = QuantumCircuit(1)\n",
    "backend = Aer.get_backend('statevector_simulator')\n",
    "qc.initialize([1, 0], 0) # The 0th qubit is |0⟩"
   ]
  },
  {
   "cell_type": "code",
   "execution_count": null,
   "id": "f1099930",
   "metadata": {},
   "outputs": [],
   "source": [
    "job = execute(qc, backend)\n",
    "result = job.result()\n",
    "quantum_state = result.get_statevector(qc, decimals=3)\n",
    "quantum_state"
   ]
  },
  {
   "cell_type": "code",
   "execution_count": null,
   "id": "c1001528",
   "metadata": {},
   "outputs": [],
   "source": [
    "plot_bloch_multivector(quantum_state)"
   ]
  },
  {
   "cell_type": "code",
   "execution_count": null,
   "id": "c910efb3",
   "metadata": {},
   "outputs": [],
   "source": [
    "qc = QuantumCircuit(1)\n",
    "backend = Aer.get_backend('statevector_simulator')\n",
    "qc.initialize([1, 0], 0) # The 0th qubit is |0⟩\n",
    "qc.y(qubit=0)"
   ]
  },
  {
   "cell_type": "code",
   "execution_count": null,
   "id": "67eeb86a",
   "metadata": {},
   "outputs": [],
   "source": [
    "job = execute(qc, backend)\n",
    "result = job.result()\n",
    "quantum_state = result.get_statevector(qc, decimals=3)\n",
    "quantum_state"
   ]
  },
  {
   "cell_type": "code",
   "execution_count": null,
   "id": "24573791",
   "metadata": {},
   "outputs": [],
   "source": [
    "plot_bloch_multivector(quantum_state)"
   ]
  },
  {
   "cell_type": "markdown",
   "id": "8eaf106b",
   "metadata": {},
   "source": [
    "### The Pauli $\\mathbf{Z}$ Gate\n",
    "\n",
    "$$\n",
    "\\mathbf{Z}=\\begin{bmatrix}\n",
    "   1 & 0 \\\\\n",
    "  0 &-1\n",
    "\\end{bmatrix}\n",
    "$$\n",
    "\n",
    "The $\\mathbf{Z}$ gate rotate a quantum state by $\\pi$ radians about the $Z$ axe. \n",
    "\n",
    "$$\n",
    "\\mathbf{Z}|0⟩=\n",
    "\\begin{bmatrix}\n",
    "   1 & 0 \\\\\n",
    "   0 & -1\n",
    "\\end{bmatrix}\n",
    "\\begin{bmatrix}\n",
    "   1 \\\\\n",
    "   0\n",
    "\\end{bmatrix}=\n",
    "\\begin{bmatrix}\n",
    "   1 \\\\\n",
    "   0\n",
    "\\end{bmatrix}\n",
    "\\qquad\n",
    "\\mathbf{Z}|1⟩=\n",
    "\\begin{bmatrix}\n",
    "   1 & 0 \\\\\n",
    "   0 & -1\n",
    "\\end{bmatrix}\n",
    "\\begin{bmatrix}\n",
    "   0 \\\\\n",
    "   1\n",
    "\\end{bmatrix}=\n",
    "\\begin{bmatrix}\n",
    "   0 \\\\\n",
    "   -1\n",
    "\\end{bmatrix}\n",
    "$$\n",
    "\n",
    "We can see that applying the $\\mathbf{Z}$ gate to our basis vectors gives us the same measurement since the negative sign (phase; we can worry about that later) is inconsequential when we measure the quantum state. Thus, $|0⟩$ and $|1⟩$ are the eigenstates of the $\\mathbf{Z}$ gate and are often called the Z-basis."
   ]
  },
  {
   "cell_type": "code",
   "execution_count": null,
   "id": "f29c4e99",
   "metadata": {},
   "outputs": [],
   "source": [
    "qc = QuantumCircuit(1)\n",
    "backend = Aer.get_backend('statevector_simulator')\n",
    "qc.initialize([1/2, sqrt(3)*1j/2], 0)"
   ]
  },
  {
   "cell_type": "code",
   "execution_count": null,
   "id": "384448d6",
   "metadata": {},
   "outputs": [],
   "source": [
    "job = execute(qc, backend)\n",
    "result = job.result()\n",
    "quantum_state = result.get_statevector(qc, decimals=3)\n",
    "quantum_state"
   ]
  },
  {
   "cell_type": "code",
   "execution_count": null,
   "id": "f9365da8",
   "metadata": {},
   "outputs": [],
   "source": [
    "plot_bloch_multivector(quantum_state)"
   ]
  },
  {
   "cell_type": "code",
   "execution_count": null,
   "id": "a9020e03",
   "metadata": {},
   "outputs": [],
   "source": [
    "qc = QuantumCircuit(1)\n",
    "backend = Aer.get_backend('statevector_simulator')\n",
    "qc.initialize([1/2, sqrt(3)*1j/2], 0) # The 0th qubit is |0⟩\n",
    "qc.z(qubit=0)"
   ]
  },
  {
   "cell_type": "code",
   "execution_count": null,
   "id": "95c2cb99",
   "metadata": {},
   "outputs": [],
   "source": [
    "job = execute(qc, backend)\n",
    "result = job.result()\n",
    "quantum_state = result.get_statevector(qc, decimals=3)\n",
    "quantum_state"
   ]
  },
  {
   "cell_type": "code",
   "execution_count": null,
   "id": "39fff3b0",
   "metadata": {},
   "outputs": [],
   "source": [
    "plot_bloch_multivector(quantum_state)"
   ]
  },
  {
   "cell_type": "markdown",
   "id": "0f10f945",
   "metadata": {},
   "source": [
    "### The $\\mathbf{H}$ (Hadamard) Gate\n",
    "\n",
    "The H gate is defined by\n",
    "$$\n",
    "\\mathbf{H}= \\frac{1}{\\sqrt{2}}\n",
    "\\begin{bmatrix}\n",
    "   1 & 1 \\\\\n",
    "   1 & -1\n",
    "\\end{bmatrix},\n",
    "$$\n",
    "that when it is applied to the \"basis\" qubits, we generate \n",
    "$$\n",
    "\\mathbf{H}|0⟩= \\frac{1}{\\sqrt{2}}\n",
    "\\begin{bmatrix}\n",
    "   1 & 1 \\\\\n",
    "   1 & -1\n",
    "\\end{bmatrix}\n",
    "\\begin{bmatrix}\n",
    "   1 \\\\\n",
    "   0\n",
    "\\end{bmatrix}=\n",
    "\\frac{1}{\\sqrt{2}}\n",
    "\\begin{bmatrix}\n",
    "   1 \\\\\n",
    "   1\n",
    "\\end{bmatrix} = \\frac{|0\\rangle + |1\\rangle}{\\sqrt{2}} = \n",
    "|+⟩\n",
    "\\qquad\n",
    "\\text{and}\n",
    "\\qquad\n",
    "\\mathbf{H}|1⟩= \\frac{1}{\\sqrt{2}}\n",
    "\\begin{bmatrix}\n",
    "   1 & 1 \\\\\n",
    "   1 & -1\n",
    "\\end{bmatrix}\n",
    "\\begin{bmatrix}\n",
    "   0 \\\\\n",
    "   1\n",
    "\\end{bmatrix}=\n",
    "\\frac{1}{\\sqrt{2}}\n",
    "\\begin{bmatrix}\n",
    "   1 \\\\\n",
    "   -1\n",
    "\\end{bmatrix}= \\frac{|0\\rangle - |1\\rangle}{\\sqrt{2}} =\n",
    "|-⟩,\n",
    "$$\n",
    "that is commonly used as a computational basis (notice that $|+\\rangle$ and $|-\\rangle$ are orthogonal).\n",
    "\n",
    "We can see that hese states are the [eigenvectors](https://en.wikipedia.org/wiki/Eigenvalues_and_eigenvectors) for the $\\mathbf{X}$ gate because\n",
    "\n",
    "$$\n",
    "\\mathbf{X}|+⟩= \n",
    "\\begin{bmatrix}\n",
    "   0 & 1 \\\\\n",
    "   1 & 0\n",
    "\\end{bmatrix}\n",
    "\\frac{1}{\\sqrt{2}}\n",
    "\\begin{bmatrix}\n",
    "   1 \\\\\n",
    "   1\n",
    "\\end{bmatrix}=\n",
    "\\frac{1}{\\sqrt{2}}\n",
    "\\begin{bmatrix}\n",
    "   1 \\\\\n",
    "   1\n",
    "\\end{bmatrix} = |+⟩\n",
    "\\qquad\n",
    "\\mathbf{X}|-⟩= \n",
    "\\begin{bmatrix}\n",
    "   0 & 1 \\\\\n",
    "   1 & 0\n",
    "\\end{bmatrix}\n",
    "\\frac{1}{\\sqrt{2}}\n",
    "\\begin{bmatrix}\n",
    "   1 \\\\\n",
    "   -1\n",
    "\\end{bmatrix}=\n",
    "\\frac{1}{\\sqrt{2}}\n",
    "\\begin{bmatrix}\n",
    "   -1 \\\\\n",
    "   1\n",
    "\\end{bmatrix} = |-⟩\n",
    "$$\n",
    "\n",
    "\n",
    "\n",
    "The H-gate seems to give a 50-50 chance of transforming the qubit from |0⟩ (and |1⟩) to either |0⟩ or |1⟩. In a quantum computer, you can create a superposition state in a qubit using the Hadamard gate:\n",
    "\n",
    "\n",
    "We define\n",
    "\n",
    "\n",
    "Where $|+⟩$ and $|-⟩$ \n",
    "\n",
    "Geometrically the $\\mathbf{H}$ gate can be visualized as a rotation around the vector [1 0 1] on the Bloch sphere, which lies in between the X and Z-axis. This is also a way to transform a state between the X and Z bases."
   ]
  },
  {
   "cell_type": "code",
   "execution_count": null,
   "id": "403a9994",
   "metadata": {},
   "outputs": [],
   "source": [
    "qc = QuantumCircuit(1)\n",
    "backend = Aer.get_backend('statevector_simulator')\n",
    "qc.initialize([1, 0], 0)"
   ]
  },
  {
   "cell_type": "code",
   "execution_count": null,
   "id": "e2ad0ce6",
   "metadata": {},
   "outputs": [],
   "source": [
    "job = execute(qc, backend)\n",
    "result = job.result()\n",
    "quantum_state = result.get_statevector(qc, decimals=3)\n",
    "quantum_state"
   ]
  },
  {
   "cell_type": "code",
   "execution_count": null,
   "id": "180a534e",
   "metadata": {},
   "outputs": [],
   "source": [
    "plot_bloch_multivector(quantum_state)"
   ]
  },
  {
   "cell_type": "code",
   "execution_count": null,
   "id": "d31b6ad3",
   "metadata": {},
   "outputs": [],
   "source": [
    "qc = QuantumCircuit(1)\n",
    "backend = Aer.get_backend('statevector_simulator')\n",
    "qc.initialize([1, 0], 0) # The 0th qubit is |0⟩\n",
    "qc.h(qubit=0)"
   ]
  },
  {
   "cell_type": "code",
   "execution_count": null,
   "id": "6f911140",
   "metadata": {},
   "outputs": [],
   "source": [
    "job = execute(qc, backend)\n",
    "result = job.result()\n",
    "quantum_state = result.get_statevector(qc, decimals=3)\n",
    "quantum_state"
   ]
  },
  {
   "cell_type": "code",
   "execution_count": null,
   "id": "05ecbb4e",
   "metadata": {},
   "outputs": [],
   "source": [
    "plot_bloch_multivector(quantum_state)"
   ]
  },
  {
   "cell_type": "markdown",
   "id": "db7cd1c0",
   "metadata": {},
   "source": [
    "### The $\\mathbf{R}_\\phi$ Gate (unfinished)\n",
    "\n",
    "This gate is parameterized by a real number 𝜙 and can be represented as\n",
    "$$\n",
    "R_\\phi= \n",
    "\\begin{bmatrix}\n",
    "   1 & 0 \\\\\n",
    "   0 & e^{i\\phi}\n",
    "\\end{bmatrix};\n",
    " \\quad \\phi\\in\\mathbb{R}.\n",
    " $$\n",
    " \n",
    "Geometrically, the $\\mathbf{R}_\\phi$ gate can be visualized as rotating a Bloch vector by a value of $\\phi$ about the Z-axis. Notice that the Pauli Z gate is just the $\\mathbf{R}_\\phi$ gate where $\\phi=\\pi$."
   ]
  },
  {
   "cell_type": "code",
   "execution_count": null,
   "id": "fd86c249",
   "metadata": {},
   "outputs": [],
   "source": [
    "qc = QuantumCircuit(1)\n",
    "backend = Aer.get_backend('statevector_simulator')\n",
    "qc.initialize([1, 0], 0)"
   ]
  },
  {
   "cell_type": "code",
   "execution_count": null,
   "id": "d1dee5a9",
   "metadata": {},
   "outputs": [],
   "source": [
    "job = execute(qc, backend)\n",
    "result = job.result()\n",
    "quantum_state = result.get_statevector(qc, decimals=3)\n",
    "quantum_state"
   ]
  },
  {
   "cell_type": "code",
   "execution_count": null,
   "id": "3fd309ad",
   "metadata": {},
   "outputs": [],
   "source": [
    "plot_bloch_multivector(quantum_state)"
   ]
  },
  {
   "cell_type": "code",
   "execution_count": null,
   "id": "0a424064",
   "metadata": {},
   "outputs": [],
   "source": [
    "qc = QuantumCircuit(1)\n",
    "backend = Aer.get_backend('statevector_simulator')\n",
    "qc.initialize([1, 0], 0) # The 0th qubit is |0⟩\n",
    "qc.r(theta=45, phi=0, qubit=0)"
   ]
  },
  {
   "cell_type": "code",
   "execution_count": null,
   "id": "da1dd66b",
   "metadata": {},
   "outputs": [],
   "source": [
    "job = execute(qc, backend)\n",
    "result = job.result()\n",
    "quantum_state = result.get_statevector(qc, decimals=3)\n",
    "quantum_state"
   ]
  },
  {
   "cell_type": "code",
   "execution_count": null,
   "id": "a189d2d0",
   "metadata": {},
   "outputs": [],
   "source": [
    "plot_bloch_multivector(quantum_state)"
   ]
  },
  {
   "cell_type": "markdown",
   "id": "3cb3375a",
   "metadata": {},
   "source": [
    "### The $\\mathbf{S}$ Gate (unfinished)\n",
    "\n",
    "The $\\mathbf{S}$ gate is the $\\mathbf{R}_\\phi$ gate where $\\phi=\\pi/2$. It is also called the $\\sqrt(\\mathbf{Z})$ gate as $\\mathbf{SS}|q⟩=\\mathbf{Z}|q⟩$."
   ]
  },
  {
   "cell_type": "code",
   "execution_count": null,
   "id": "a41f34f9",
   "metadata": {},
   "outputs": [],
   "source": [
    "qc = QuantumCircuit(1)\n",
    "backend = Aer.get_backend('statevector_simulator')\n",
    "qc.initialize([1, 0], 0)"
   ]
  },
  {
   "cell_type": "code",
   "execution_count": null,
   "id": "6cd87c20",
   "metadata": {},
   "outputs": [],
   "source": [
    "job = execute(qc, backend)\n",
    "result = job.result()\n",
    "quantum_state = result.get_statevector(qc, decimals=3)\n",
    "quantum_state"
   ]
  },
  {
   "cell_type": "code",
   "execution_count": null,
   "id": "94414cf2",
   "metadata": {},
   "outputs": [],
   "source": [
    "plot_bloch_multivector(quantum_state)"
   ]
  },
  {
   "cell_type": "code",
   "execution_count": null,
   "id": "b6dc6c9c",
   "metadata": {},
   "outputs": [],
   "source": [
    "qc = QuantumCircuit(1)\n",
    "backend = Aer.get_backend('statevector_simulator')\n",
    "qc.initialize([1, 0], 0) # The 0th qubit is |0⟩\n",
    "qc.r(theta=45, phi=0, qubit=0)"
   ]
  },
  {
   "cell_type": "code",
   "execution_count": null,
   "id": "77ccb95c",
   "metadata": {},
   "outputs": [],
   "source": [
    "job = execute(qc, backend)\n",
    "result = job.result()\n",
    "quantum_state = result.get_statevector(qc, decimals=3)\n",
    "quantum_state"
   ]
  },
  {
   "cell_type": "code",
   "execution_count": null,
   "id": "4c8dbcdb",
   "metadata": {},
   "outputs": [],
   "source": [
    "plot_bloch_multivector(quantum_state)"
   ]
  },
  {
   "cell_type": "markdown",
   "id": "a9074b39",
   "metadata": {},
   "source": [
    "### The $\\mathbf{T}$ Gate (unfinished)\n",
    "\n",
    "The $\\mathbf{T}$ gate is the $\\mathbf{R}_\\phi$ gate where $\\phi=\\pi/4$ and is the 4th root of the $\\mathbf{Z}$ Gate."
   ]
  },
  {
   "cell_type": "markdown",
   "id": "9d3210eb",
   "metadata": {},
   "source": [
    "### The $\\mathbf{U_3}$ Gate (unfinished)\n",
    "$$\n",
    "\\mathbf{U_3}= \n",
    "\\begin{bmatrix}\n",
    "   cos(\\frac{\\theta}{2}) & -e^{iπ}sin(\\frac{\\theta}{2}) \\\\\n",
    "   e^{i\\phi}sin(\\frac{\\theta}{2}) & e^{i\\lambda+i\\phi}cos(\\frac{\\theta}{2})\n",
    "\\end{bmatrix}\n",
    " \\quad \\theta,\\phi, \\lambda\\in\\mathbb R\n",
    "$$"
   ]
  },
  {
   "cell_type": "markdown",
   "id": "136e81b0",
   "metadata": {},
   "source": [
    "### Toffoli ($\\text{cc}\\mathbf{+}$)\n",
    "\n",
    "The Toffoli gate is essentially the atom of mathematics. It is the simplest element, from which every other problem-solving technique can be compiled.\n",
    "\n",
    "$$\n",
    "\\text{cc}\\mathbf{+} = \n",
    "\\begin{bmatrix}\n",
    "  1 & 0 & 0 & 0 & 0 & 0 & 0 & 0 \\\\\n",
    "  0 & 1 & 0 & 0 & 0 & 0 & 0 & 0 \\\\\n",
    "  0 & 0 & 1 & 0 & 0 & 0 & 0 & 0 \\\\\n",
    "  0 & 0 & 0 & 1 & 0 & 0 & 0 & 0 \\\\\n",
    "  0 & 0 & 0 & 0 & 1 & 0 & 0 & 0 \\\\\n",
    "  0 & 0 & 0 & 0 & 0 & 1 & 0 & 0 \\\\\n",
    "  0 & 0 & 0 & 0 & 0 & 0 & 0 & 1 \\\\\n",
    "  0 & 0 & 0 & 0 & 0 & 0 & 1 & 0  \n",
    "\\end{bmatrix}\n",
    "$$\n"
   ]
  },
  {
   "cell_type": "markdown",
   "id": "a7850d41",
   "metadata": {},
   "source": [
    "### CNOT (Controlled-NOT) gate\n",
    "\n",
    "$$\n",
    "\\text{CNOT} = \n",
    "\\begin{bmatrix}\n",
    "  1 & 0 & 0 & 0 \\\\\n",
    "  0 & 0 & 0 & 1 \\\\\n",
    "  0 & 0 & 1 & 0 \\\\\n",
    "  0 & 1 & 0 & 0\n",
    "\\end{bmatrix}\n",
    "$$\n"
   ]
  },
  {
   "cell_type": "markdown",
   "id": "49928855",
   "metadata": {},
   "source": [
    "### $\\mathbf{V}$ gate\n",
    "\n",
    "$$\n",
    "\\mathbf{V} = \\frac{1+i}{2}\n",
    "\\begin{bmatrix}\n",
    "  1 & -i \\\\\n",
    "  -i & 1\n",
    "\\end{bmatrix}\n",
    "$$"
   ]
  },
  {
   "cell_type": "markdown",
   "id": "ab748049",
   "metadata": {},
   "source": [
    "### Controlled-$\\mathbf{V}$ (gate\n",
    "\n",
    "$$\n",
    "C\\mathbf{V} = \\frac{1+i}{2}\n",
    "\\begin{bmatrix}\n",
    "  1 & 0 & 0 & 0 \\\\\n",
    "  0 & 1 & 0 & 0 \\\\\n",
    "  0 & 0 & 1 & -i \\\\\n",
    "  0 & 0 & -i & 1\n",
    "\\end{bmatrix}\n",
    "$$"
   ]
  },
  {
   "cell_type": "markdown",
   "id": "3049ddee",
   "metadata": {},
   "source": [
    "### $\\mathbf{V_+}$ gate\n",
    "\n",
    "$$\n",
    "\\mathbf{V} = \\frac{1-i}{2}\n",
    "\\begin{bmatrix}\n",
    "  1 & i \\\\\n",
    "  i & 1\n",
    "\\end{bmatrix}\n",
    "$$"
   ]
  },
  {
   "cell_type": "markdown",
   "id": "f6e4b241",
   "metadata": {},
   "source": [
    "### Controlled-$\\mathbf{V_+}$ gate\n",
    "\n",
    "$$\n",
    "C\\mathbf{V} = \\frac{1-i}{2}\n",
    "\\begin{bmatrix}\n",
    "  1 & 0 & 0 & 0 \\\\\n",
    "  0 & 1 & 0 & 0 \\\\\n",
    "  0 & 0 & 1 & i \\\\\n",
    "  0 & 0 & i & 1\n",
    "\\end{bmatrix}\n",
    "$$"
   ]
  },
  {
   "cell_type": "markdown",
   "id": "5f26420c",
   "metadata": {},
   "source": [
    "### cx gate\n",
    "Also known as the controlled-X or controlled-NOT, it is an entangling gate.\n"
   ]
  },
  {
   "cell_type": "code",
   "execution_count": 7,
   "id": "f5b8b780",
   "metadata": {},
   "outputs": [
    {
     "name": "stdout",
     "output_type": "stream",
     "text": [
      "Statevector([1.+0.j, 0.+0.j, 0.+0.j, 0.+0.j],\n",
      "            dims=(2, 2))\n",
      "Statevector([0.70710678+0.j, 0.        +0.j, 0.70710678+0.j,\n",
      "             0.        +0.j],\n",
      "            dims=(2, 2))\n",
      "Statevector([0.70710678+0.j, 0.        +0.j, 0.        +0.j,\n",
      "             0.70710678+0.j],\n",
      "            dims=(2, 2))\n"
     ]
    }
   ],
   "source": [
    "# Creating entanglement\n",
    "\n",
    "from qiskit import QuantumCircuit\n",
    "from qiskit.quantum_info import Statevector\n",
    "qc = QuantumCircuit(2)\n",
    "print(Statevector(qc).draw())\n",
    "qc.h(1)\n",
    "print(Statevector(qc).draw())\n",
    "qc.cx(1,0)\n",
    "print(Statevector(qc).draw())"
   ]
  },
  {
   "cell_type": "code",
   "execution_count": 8,
   "id": "bd60b22b",
   "metadata": {},
   "outputs": [
    {
     "name": "stdout",
     "output_type": "stream",
     "text": [
      "Statevector([1.+0.j, 0.+0.j, 0.+0.j, 0.+0.j],\n",
      "            dims=(2, 2))\n",
      "Statevector([1.+0.j, 0.+0.j, 0.+0.j, 0.+0.j],\n",
      "            dims=(2, 2))\n",
      "Statevector([0.70710678+0.j, 0.70710678+0.j, 0.        +0.j,\n",
      "             0.        +0.j],\n",
      "            dims=(2, 2))\n",
      "Statevector([0.5+0.j, 0.5+0.j, 0.5+0.j, 0.5+0.j],\n",
      "            dims=(2, 2))\n",
      "Statevector([0.5+0.j, 0.5+0.j, 0.5+0.j, 0.5+0.j],\n",
      "            dims=(2, 2))\n",
      "Statevector([ 0.5+0.j, -0.5+0.j,  0.5+0.j, -0.5+0.j],\n",
      "            dims=(2, 2))\n",
      "Statevector([ 0.5+0.j, -0.5+0.j, -0.5+0.j,  0.5+0.j],\n",
      "            dims=(2, 2))\n"
     ]
    }
   ],
   "source": [
    "# Creating entanglement, again\n",
    "\n",
    "from qiskit import QuantumCircuit\n",
    "from qiskit.quantum_info import Statevector\n",
    "qc = QuantumCircuit(2)\n",
    "print(Statevector(qc).draw())\n",
    "qc = QuantumCircuit(2)\n",
    "print(Statevector(qc).draw())\n",
    "qc.h(0)\n",
    "print(Statevector(qc).draw())\n",
    "qc.h(1)\n",
    "print(Statevector(qc).draw())\n",
    "qc.cx(1,0)\n",
    "print(Statevector(qc).draw())\n",
    "qc.z(0)\n",
    "print(Statevector(qc).draw())\n",
    "qc.cx(1,0)\n",
    "print(Statevector(qc).draw())"
   ]
  },
  {
   "cell_type": "markdown",
   "id": "39b37eab",
   "metadata": {},
   "source": [
    "### cz gate\n",
    "\n",
    "Entangling gate."
   ]
  },
  {
   "cell_type": "markdown",
   "id": "f0512a12",
   "metadata": {},
   "source": [
    "## [Adding 2 qubits](https://learn.qiskit.org/course/introduction/the-atoms-of-computation#the-15-176)\n",
    "\n",
    "We are going to implement a \"half adder\" defined by:\n",
    "\n",
    "    0 + 0 = 00\n",
    "    0 + 1 = 01\n",
    "    1 + 0 = 01\n",
    "    1 + 1 = 10\n",
    "    \n",
    "As it can be seen, the LSb of the output of the adder is the output a clasical XOR gate, which in the quantum world can be implemented by the ‘controlled-NOT gate’ (CNOT) controlled by qubit 0 and targeting qubit 1. The MSb can be implemented by a Toffoli gate (that is like an clasical AND gate)."
   ]
  },
  {
   "cell_type": "code",
   "execution_count": null,
   "id": "6573d041",
   "metadata": {},
   "outputs": [],
   "source": [
    "qc = QuantumCircuit(4 ,2)\n",
    "backend = Aer.get_backend('statevector_simulator')\n",
    "qc.x(0) # By default, the qubits are |0⟩ and this creates |1⟩.\n",
    "qc.x(1)\n",
    "qc.cx(0,2)\n",
    "qc.cx(1,2)\n",
    "qc.ccx(0,1,3)\n",
    "qc.measure(2,0)\n",
    "qc.measure(3,1)\n",
    "qc.draw()"
   ]
  },
  {
   "cell_type": "code",
   "execution_count": null,
   "id": "53ed1bb6",
   "metadata": {},
   "outputs": [],
   "source": [
    "job = execute(qc, backend)\n",
    "result = job.result()\n",
    "quantum_state = result.get_statevector(qc, decimals=3)\n",
    "quantum_state"
   ]
  },
  {
   "cell_type": "code",
   "execution_count": null,
   "id": "bcdb90de",
   "metadata": {},
   "outputs": [],
   "source": [
    "result.get_counts()"
   ]
  },
  {
   "cell_type": "markdown",
   "id": "9ecb8621",
   "metadata": {},
   "source": [
    "## Using entanglement for super-dense coding"
   ]
  },
  {
   "cell_type": "code",
   "execution_count": 13,
   "id": "7162400f",
   "metadata": {},
   "outputs": [
    {
     "name": "stdout",
     "output_type": "stream",
     "text": [
      "Statevector([0.70710678+0.j, 0.        +0.j, 0.        +0.j,\n",
      "             0.70710678+0.j],\n",
      "            dims=(2, 2))\n"
     ]
    },
    {
     "data": {
      "text/plain": [
       "<qiskit.circuit.instructionset.InstructionSet at 0x7f1f6fb9cfc0>"
      ]
     },
     "execution_count": 13,
     "metadata": {},
     "output_type": "execute_result"
    }
   ],
   "source": [
    "MESSAGE = '00'\n",
    "\n",
    "MESSAGE = '00'\n",
    "\n",
    "qc_alice = QuantumCircuit(2,2)\n",
    "qc_alice.h(1)\n",
    "qc_alice.cx(1,0)\n",
    "\n",
    "if MESSAGE[-2]=='1':\n",
    "    qc_alice.z(1)\n",
    "if MESSAGE[-1]=='1':\n",
    "    qc_alice.x(1)\n",
    "\n",
    "print(Statevector(qc_alice).draw())\n",
    "\n",
    "qc_bob = QuantumCircuit(2,2)\n",
    "# Bob unentangles\n",
    "qc_bob.cx(1,0)\n",
    "qc_bob.h(1)\n",
    "# Then measures\n",
    "qc_bob.measure([0,1],[0,1])\n",
    "\n",
    "from qiskit import Aer\n",
    "backend = Aer.get_backend('aer_simulator')\n",
    "\n",
    "# Bob measures\n",
    "qc_bob = QuantumCircuit(2,2)\n",
    "qc_bob.measure([0,1],[0,1])\n",
    "\n",
    "backend.run(qc_alice.compose(qc_bob)).result().get_counts()"
   ]
  },
  {
   "cell_type": "code",
   "execution_count": null,
   "id": "b9e6c286",
   "metadata": {},
   "outputs": [],
   "source": []
  }
 ],
 "metadata": {
  "kernelspec": {
   "display_name": "Python 3 (ipykernel)",
   "language": "python",
   "name": "python3"
  },
  "language_info": {
   "codemirror_mode": {
    "name": "ipython",
    "version": 3
   },
   "file_extension": ".py",
   "mimetype": "text/x-python",
   "name": "python",
   "nbconvert_exporter": "python",
   "pygments_lexer": "ipython3",
   "version": "3.10.5"
  }
 },
 "nbformat": 4,
 "nbformat_minor": 5
}
