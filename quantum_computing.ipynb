{
 "cells": [
  {
   "cell_type": "code",
   "execution_count": 14,
   "id": "1cb6a1ac",
   "metadata": {
    "scrolled": true
   },
   "outputs": [
    {
     "name": "stdout",
     "output_type": "stream",
     "text": [
      "Defaulting to user installation because normal site-packages is not writeable\n",
      "Requirement already satisfied: qiskit in /home/vruiz/.local/lib/python3.10/site-packages (0.36.2)\n",
      "Requirement already satisfied: qiskit-terra==0.20.2 in /home/vruiz/.local/lib/python3.10/site-packages (from qiskit) (0.20.2)\n",
      "Requirement already satisfied: qiskit-aer==0.10.4 in /home/vruiz/.local/lib/python3.10/site-packages (from qiskit) (0.10.4)\n",
      "Requirement already satisfied: qiskit-ibmq-provider==0.19.1 in /home/vruiz/.local/lib/python3.10/site-packages (from qiskit) (0.19.1)\n",
      "Requirement already satisfied: qiskit-ignis==0.7.1 in /home/vruiz/.local/lib/python3.10/site-packages (from qiskit) (0.7.1)\n",
      "Requirement already satisfied: numpy>=1.16.3 in /usr/lib/python3.10/site-packages (from qiskit-aer==0.10.4->qiskit) (1.22.4)\n",
      "Requirement already satisfied: scipy>=1.0 in /home/vruiz/.local/lib/python3.10/site-packages (from qiskit-aer==0.10.4->qiskit) (1.7.3)\n",
      "Requirement already satisfied: requests>=2.19 in /usr/lib/python3.10/site-packages (from qiskit-ibmq-provider==0.19.1->qiskit) (2.27.1)\n",
      "Requirement already satisfied: requests-ntlm>=1.1.0 in /home/vruiz/.local/lib/python3.10/site-packages (from qiskit-ibmq-provider==0.19.1->qiskit) (1.1.0)\n",
      "Requirement already satisfied: urllib3>=1.21.1 in /usr/lib/python3.10/site-packages (from qiskit-ibmq-provider==0.19.1->qiskit) (1.26.9)\n",
      "Requirement already satisfied: python-dateutil>=2.8.0 in /home/vruiz/.local/lib/python3.10/site-packages (from qiskit-ibmq-provider==0.19.1->qiskit) (2.8.2)\n",
      "Requirement already satisfied: websocket-client>=1.0.1 in /home/vruiz/.local/lib/python3.10/site-packages (from qiskit-ibmq-provider==0.19.1->qiskit) (1.3.2)\n",
      "Requirement already satisfied: websockets>=10.0 in /home/vruiz/.local/lib/python3.10/site-packages (from qiskit-ibmq-provider==0.19.1->qiskit) (10.3)\n",
      "Requirement already satisfied: retworkx>=0.8.0 in /home/vruiz/.local/lib/python3.10/site-packages (from qiskit-ignis==0.7.1->qiskit) (0.11.0)\n",
      "Requirement already satisfied: setuptools>=40.1.0 in /usr/lib/python3.10/site-packages (from qiskit-ignis==0.7.1->qiskit) (60.6.0)\n",
      "Requirement already satisfied: ply>=3.10 in /usr/lib/python3.10/site-packages (from qiskit-terra==0.20.2->qiskit) (3.11)\n",
      "Requirement already satisfied: psutil>=5 in /usr/lib/python3.10/site-packages (from qiskit-terra==0.20.2->qiskit) (5.9.0)\n",
      "Requirement already satisfied: sympy>=1.3 in /home/vruiz/.local/lib/python3.10/site-packages (from qiskit-terra==0.20.2->qiskit) (1.10.1)\n",
      "Requirement already satisfied: dill>=0.3 in /home/vruiz/.local/lib/python3.10/site-packages (from qiskit-terra==0.20.2->qiskit) (0.3.5.1)\n",
      "Requirement already satisfied: python-constraint>=1.4 in /home/vruiz/.local/lib/python3.10/site-packages (from qiskit-terra==0.20.2->qiskit) (1.4.0)\n",
      "Requirement already satisfied: stevedore>=3.0.0 in /home/vruiz/.local/lib/python3.10/site-packages (from qiskit-terra==0.20.2->qiskit) (3.5.0)\n",
      "Requirement already satisfied: tweedledum<2.0,>=1.1 in /home/vruiz/.local/lib/python3.10/site-packages (from qiskit-terra==0.20.2->qiskit) (1.1.1)\n",
      "Requirement already satisfied: symengine>=0.9 in /home/vruiz/.local/lib/python3.10/site-packages (from qiskit-terra==0.20.2->qiskit) (0.9.2)\n",
      "Requirement already satisfied: six>=1.5 in /usr/lib/python3.10/site-packages (from python-dateutil>=2.8.0->qiskit-ibmq-provider==0.19.1->qiskit) (1.16.0)\n",
      "Requirement already satisfied: chardet>=3.0.2 in /usr/lib/python3.10/site-packages (from requests>=2.19->qiskit-ibmq-provider==0.19.1->qiskit) (4.0.0)\n",
      "Requirement already satisfied: idna>=2.5 in /usr/lib/python3.10/site-packages (from requests>=2.19->qiskit-ibmq-provider==0.19.1->qiskit) (3.3)\n",
      "Requirement already satisfied: ntlm-auth>=1.0.2 in /home/vruiz/.local/lib/python3.10/site-packages (from requests-ntlm>=1.1.0->qiskit-ibmq-provider==0.19.1->qiskit) (1.5.0)\n",
      "Requirement already satisfied: cryptography>=1.3 in /usr/lib/python3.10/site-packages (from requests-ntlm>=1.1.0->qiskit-ibmq-provider==0.19.1->qiskit) (37.0.2)\n",
      "Requirement already satisfied: cffi>=1.12 in /usr/lib/python3.10/site-packages (from cryptography>=1.3->requests-ntlm>=1.1.0->qiskit-ibmq-provider==0.19.1->qiskit) (1.15.0)\n",
      "Requirement already satisfied: pycparser in /usr/lib/python3.10/site-packages (from cffi>=1.12->cryptography>=1.3->requests-ntlm>=1.1.0->qiskit-ibmq-provider==0.19.1->qiskit) (2.21)\n",
      "Requirement already satisfied: pbr!=2.1.0,>=2.0.0 in /home/vruiz/.local/lib/python3.10/site-packages (from stevedore>=3.0.0->qiskit-terra==0.20.2->qiskit) (5.9.0)\n",
      "Requirement already satisfied: mpmath>=0.19 in /home/vruiz/.local/lib/python3.10/site-packages (from sympy>=1.3->qiskit-terra==0.20.2->qiskit) (1.2.1)\n",
      "Defaulting to user installation because normal site-packages is not writeable\n",
      "Collecting git+https://github.com/qiskit-community/qiskit-textbook.git#subdirectory=qiskit-textbook-src\n",
      "  Cloning https://github.com/qiskit-community/qiskit-textbook.git to /tmp/pip-req-build-adc5tvgt\n",
      "  Running command git clone -q https://github.com/qiskit-community/qiskit-textbook.git /tmp/pip-req-build-adc5tvgt\n",
      "Requirement already satisfied: qiskit in /home/vruiz/.local/lib/python3.10/site-packages (from qiskit-textbook==0.1.0) (0.36.2)\n",
      "Requirement already satisfied: ipython in /home/vruiz/.local/lib/python3.10/site-packages (from qiskit-textbook==0.1.0) (8.0.0)\n",
      "Requirement already satisfied: ipywidgets in /home/vruiz/.local/lib/python3.10/site-packages (from qiskit-textbook==0.1.0) (7.6.5)\n",
      "Requirement already satisfied: numpy in /usr/lib/python3.10/site-packages (from qiskit-textbook==0.1.0) (1.22.4)\n",
      "Requirement already satisfied: matplotlib in /home/vruiz/.local/lib/python3.10/site-packages (from qiskit-textbook==0.1.0) (3.5.1)\n",
      "Requirement already satisfied: setuptools>=18.5 in /usr/lib/python3.10/site-packages (from ipython->qiskit-textbook==0.1.0) (60.6.0)\n",
      "Requirement already satisfied: jedi>=0.16 in /home/vruiz/.local/lib/python3.10/site-packages (from ipython->qiskit-textbook==0.1.0) (0.18.1)\n",
      "Requirement already satisfied: black in /home/vruiz/.local/lib/python3.10/site-packages (from ipython->qiskit-textbook==0.1.0) (21.12b0)\n",
      "Requirement already satisfied: decorator in /home/vruiz/.local/lib/python3.10/site-packages (from ipython->qiskit-textbook==0.1.0) (5.1.1)\n",
      "Requirement already satisfied: pickleshare in /home/vruiz/.local/lib/python3.10/site-packages (from ipython->qiskit-textbook==0.1.0) (0.7.5)\n",
      "Requirement already satisfied: traitlets>=5 in /home/vruiz/.local/lib/python3.10/site-packages (from ipython->qiskit-textbook==0.1.0) (5.1.1)\n",
      "Requirement already satisfied: prompt-toolkit!=3.0.0,!=3.0.1,<3.1.0,>=2.0.0 in /home/vruiz/.local/lib/python3.10/site-packages (from ipython->qiskit-textbook==0.1.0) (3.0.24)\n",
      "Requirement already satisfied: pygments in /home/vruiz/.local/lib/python3.10/site-packages (from ipython->qiskit-textbook==0.1.0) (2.11.2)\n",
      "Requirement already satisfied: backcall in /home/vruiz/.local/lib/python3.10/site-packages (from ipython->qiskit-textbook==0.1.0) (0.2.0)\n",
      "Requirement already satisfied: stack-data in /home/vruiz/.local/lib/python3.10/site-packages (from ipython->qiskit-textbook==0.1.0) (0.1.4)\n",
      "Requirement already satisfied: matplotlib-inline in /home/vruiz/.local/lib/python3.10/site-packages (from ipython->qiskit-textbook==0.1.0) (0.1.3)\n",
      "Requirement already satisfied: pexpect>4.3 in /usr/lib/python3.10/site-packages (from ipython->qiskit-textbook==0.1.0) (4.8.0)\n",
      "Requirement already satisfied: parso<0.9.0,>=0.8.0 in /home/vruiz/.local/lib/python3.10/site-packages (from jedi>=0.16->ipython->qiskit-textbook==0.1.0) (0.8.3)\n",
      "Requirement already satisfied: wcwidth in /home/vruiz/.local/lib/python3.10/site-packages (from prompt-toolkit!=3.0.0,!=3.0.1,<3.1.0,>=2.0.0->ipython->qiskit-textbook==0.1.0) (0.2.5)\n",
      "Requirement already satisfied: click>=7.1.2 in /home/vruiz/.local/lib/python3.10/site-packages (from black->ipython->qiskit-textbook==0.1.0) (8.0.3)\n",
      "Requirement already satisfied: platformdirs>=2 in /home/vruiz/.local/lib/python3.10/site-packages (from black->ipython->qiskit-textbook==0.1.0) (2.4.1)\n",
      "Requirement already satisfied: tomli<2.0.0,>=0.2.6 in /home/vruiz/.local/lib/python3.10/site-packages (from black->ipython->qiskit-textbook==0.1.0) (1.2.3)\n",
      "Requirement already satisfied: pathspec<1,>=0.9.0 in /home/vruiz/.local/lib/python3.10/site-packages (from black->ipython->qiskit-textbook==0.1.0) (0.9.0)\n",
      "Requirement already satisfied: typing-extensions>=3.10.0.0 in /home/vruiz/.local/lib/python3.10/site-packages (from black->ipython->qiskit-textbook==0.1.0) (4.0.1)\n",
      "Requirement already satisfied: mypy-extensions>=0.4.3 in /home/vruiz/.local/lib/python3.10/site-packages (from black->ipython->qiskit-textbook==0.1.0) (0.4.3)\n",
      "Requirement already satisfied: ipykernel>=4.5.1 in /home/vruiz/.local/lib/python3.10/site-packages (from ipywidgets->qiskit-textbook==0.1.0) (6.7.0)\n",
      "Requirement already satisfied: ipython-genutils~=0.2.0 in /home/vruiz/.local/lib/python3.10/site-packages (from ipywidgets->qiskit-textbook==0.1.0) (0.2.0)\n",
      "Requirement already satisfied: nbformat>=4.2.0 in /home/vruiz/.local/lib/python3.10/site-packages (from ipywidgets->qiskit-textbook==0.1.0) (5.1.3)\n",
      "Requirement already satisfied: widgetsnbextension~=3.5.0 in /home/vruiz/.local/lib/python3.10/site-packages (from ipywidgets->qiskit-textbook==0.1.0) (3.5.2)\n",
      "Requirement already satisfied: jupyterlab-widgets>=1.0.0 in /home/vruiz/.local/lib/python3.10/site-packages (from ipywidgets->qiskit-textbook==0.1.0) (1.0.2)\n"
     ]
    },
    {
     "name": "stdout",
     "output_type": "stream",
     "text": [
      "Requirement already satisfied: debugpy<2.0,>=1.0.0 in /home/vruiz/.local/lib/python3.10/site-packages (from ipykernel>=4.5.1->ipywidgets->qiskit-textbook==0.1.0) (1.5.1)\n",
      "Requirement already satisfied: jupyter-client<8.0 in /home/vruiz/.local/lib/python3.10/site-packages (from ipykernel>=4.5.1->ipywidgets->qiskit-textbook==0.1.0) (7.1.1)\n",
      "Requirement already satisfied: tornado<7.0,>=4.2 in /home/vruiz/.local/lib/python3.10/site-packages (from ipykernel>=4.5.1->ipywidgets->qiskit-textbook==0.1.0) (6.1)\n",
      "Requirement already satisfied: nest-asyncio in /home/vruiz/.local/lib/python3.10/site-packages (from ipykernel>=4.5.1->ipywidgets->qiskit-textbook==0.1.0) (1.5.4)\n",
      "Requirement already satisfied: entrypoints in /home/vruiz/.local/lib/python3.10/site-packages (from jupyter-client<8.0->ipykernel>=4.5.1->ipywidgets->qiskit-textbook==0.1.0) (0.3)\n",
      "Requirement already satisfied: jupyter-core>=4.6.0 in /home/vruiz/.local/lib/python3.10/site-packages (from jupyter-client<8.0->ipykernel>=4.5.1->ipywidgets->qiskit-textbook==0.1.0) (4.9.1)\n",
      "Requirement already satisfied: python-dateutil>=2.1 in /home/vruiz/.local/lib/python3.10/site-packages (from jupyter-client<8.0->ipykernel>=4.5.1->ipywidgets->qiskit-textbook==0.1.0) (2.8.2)\n",
      "Requirement already satisfied: pyzmq>=13 in /usr/lib/python3.10/site-packages (from jupyter-client<8.0->ipykernel>=4.5.1->ipywidgets->qiskit-textbook==0.1.0) (23.0.0)\n",
      "Requirement already satisfied: jsonschema!=2.5.0,>=2.4 in /home/vruiz/.local/lib/python3.10/site-packages (from nbformat>=4.2.0->ipywidgets->qiskit-textbook==0.1.0) (4.4.0)\n",
      "Requirement already satisfied: attrs>=17.4.0 in /home/vruiz/.local/lib/python3.10/site-packages (from jsonschema!=2.5.0,>=2.4->nbformat>=4.2.0->ipywidgets->qiskit-textbook==0.1.0) (21.4.0)\n",
      "Requirement already satisfied: pyrsistent!=0.17.0,!=0.17.1,!=0.17.2,>=0.14.0 in /home/vruiz/.local/lib/python3.10/site-packages (from jsonschema!=2.5.0,>=2.4->nbformat>=4.2.0->ipywidgets->qiskit-textbook==0.1.0) (0.18.1)\n",
      "Requirement already satisfied: six>=1.5 in /usr/lib/python3.10/site-packages (from python-dateutil>=2.1->jupyter-client<8.0->ipykernel>=4.5.1->ipywidgets->qiskit-textbook==0.1.0) (1.16.0)\n",
      "Requirement already satisfied: notebook>=4.4.1 in /home/vruiz/.local/lib/python3.10/site-packages (from widgetsnbextension~=3.5.0->ipywidgets->qiskit-textbook==0.1.0) (6.4.7)\n",
      "Requirement already satisfied: jinja2 in /home/vruiz/.local/lib/python3.10/site-packages (from notebook>=4.4.1->widgetsnbextension~=3.5.0->ipywidgets->qiskit-textbook==0.1.0) (3.0.3)\n",
      "Requirement already satisfied: argon2-cffi in /home/vruiz/.local/lib/python3.10/site-packages (from notebook>=4.4.1->widgetsnbextension~=3.5.0->ipywidgets->qiskit-textbook==0.1.0) (21.3.0)\n",
      "Requirement already satisfied: nbconvert in /home/vruiz/.local/lib/python3.10/site-packages (from notebook>=4.4.1->widgetsnbextension~=3.5.0->ipywidgets->qiskit-textbook==0.1.0) (6.4.0)\n",
      "Requirement already satisfied: Send2Trash>=1.8.0 in /home/vruiz/.local/lib/python3.10/site-packages (from notebook>=4.4.1->widgetsnbextension~=3.5.0->ipywidgets->qiskit-textbook==0.1.0) (1.8.0)\n",
      "Requirement already satisfied: terminado>=0.8.3 in /home/vruiz/.local/lib/python3.10/site-packages (from notebook>=4.4.1->widgetsnbextension~=3.5.0->ipywidgets->qiskit-textbook==0.1.0) (0.12.1)\n",
      "Requirement already satisfied: prometheus-client in /home/vruiz/.local/lib/python3.10/site-packages (from notebook>=4.4.1->widgetsnbextension~=3.5.0->ipywidgets->qiskit-textbook==0.1.0) (0.12.0)\n",
      "Requirement already satisfied: ptyprocess in /usr/lib/python3.10/site-packages (from terminado>=0.8.3->notebook>=4.4.1->widgetsnbextension~=3.5.0->ipywidgets->qiskit-textbook==0.1.0) (0.7.0)\n",
      "Requirement already satisfied: argon2-cffi-bindings in /home/vruiz/.local/lib/python3.10/site-packages (from argon2-cffi->notebook>=4.4.1->widgetsnbextension~=3.5.0->ipywidgets->qiskit-textbook==0.1.0) (21.2.0)\n",
      "Requirement already satisfied: cffi>=1.0.1 in /usr/lib/python3.10/site-packages (from argon2-cffi-bindings->argon2-cffi->notebook>=4.4.1->widgetsnbextension~=3.5.0->ipywidgets->qiskit-textbook==0.1.0) (1.15.0)\n",
      "Requirement already satisfied: pycparser in /usr/lib/python3.10/site-packages (from cffi>=1.0.1->argon2-cffi-bindings->argon2-cffi->notebook>=4.4.1->widgetsnbextension~=3.5.0->ipywidgets->qiskit-textbook==0.1.0) (2.21)\n",
      "Requirement already satisfied: MarkupSafe>=2.0 in /home/vruiz/.local/lib/python3.10/site-packages (from jinja2->notebook>=4.4.1->widgetsnbextension~=3.5.0->ipywidgets->qiskit-textbook==0.1.0) (2.0.1)\n",
      "Requirement already satisfied: cycler>=0.10 in /home/vruiz/.local/lib/python3.10/site-packages (from matplotlib->qiskit-textbook==0.1.0) (0.11.0)\n",
      "Requirement already satisfied: fonttools>=4.22.0 in /home/vruiz/.local/lib/python3.10/site-packages (from matplotlib->qiskit-textbook==0.1.0) (4.28.5)\n",
      "Requirement already satisfied: kiwisolver>=1.0.1 in /home/vruiz/.local/lib/python3.10/site-packages (from matplotlib->qiskit-textbook==0.1.0) (1.3.2)\n",
      "Requirement already satisfied: packaging>=20.0 in /usr/lib/python3.10/site-packages (from matplotlib->qiskit-textbook==0.1.0) (21.3)\n",
      "Requirement already satisfied: pillow>=6.2.0 in /home/vruiz/.local/lib/python3.10/site-packages (from matplotlib->qiskit-textbook==0.1.0) (9.0.0)\n",
      "Requirement already satisfied: pyparsing>=2.2.1 in /usr/lib/python3.10/site-packages (from matplotlib->qiskit-textbook==0.1.0) (3.0.9)\n",
      "Requirement already satisfied: mistune<2,>=0.8.1 in /home/vruiz/.local/lib/python3.10/site-packages (from nbconvert->notebook>=4.4.1->widgetsnbextension~=3.5.0->ipywidgets->qiskit-textbook==0.1.0) (0.8.4)\n",
      "Requirement already satisfied: jupyterlab-pygments in /home/vruiz/.local/lib/python3.10/site-packages (from nbconvert->notebook>=4.4.1->widgetsnbextension~=3.5.0->ipywidgets->qiskit-textbook==0.1.0) (0.1.2)\n",
      "Requirement already satisfied: bleach in /home/vruiz/.local/lib/python3.10/site-packages (from nbconvert->notebook>=4.4.1->widgetsnbextension~=3.5.0->ipywidgets->qiskit-textbook==0.1.0) (4.1.0)\n",
      "Requirement already satisfied: pandocfilters>=1.4.1 in /home/vruiz/.local/lib/python3.10/site-packages (from nbconvert->notebook>=4.4.1->widgetsnbextension~=3.5.0->ipywidgets->qiskit-textbook==0.1.0) (1.5.0)\n",
      "Requirement already satisfied: testpath in /home/vruiz/.local/lib/python3.10/site-packages (from nbconvert->notebook>=4.4.1->widgetsnbextension~=3.5.0->ipywidgets->qiskit-textbook==0.1.0) (0.5.0)\n",
      "Requirement already satisfied: defusedxml in /home/vruiz/.local/lib/python3.10/site-packages (from nbconvert->notebook>=4.4.1->widgetsnbextension~=3.5.0->ipywidgets->qiskit-textbook==0.1.0) (0.7.1)\n",
      "Requirement already satisfied: nbclient<0.6.0,>=0.5.0 in /home/vruiz/.local/lib/python3.10/site-packages (from nbconvert->notebook>=4.4.1->widgetsnbextension~=3.5.0->ipywidgets->qiskit-textbook==0.1.0) (0.5.10)\n",
      "Requirement already satisfied: webencodings in /usr/lib/python3.10/site-packages (from bleach->nbconvert->notebook>=4.4.1->widgetsnbextension~=3.5.0->ipywidgets->qiskit-textbook==0.1.0) (0.5.1)\n",
      "Requirement already satisfied: qiskit-terra==0.20.2 in /home/vruiz/.local/lib/python3.10/site-packages (from qiskit->qiskit-textbook==0.1.0) (0.20.2)\n",
      "Requirement already satisfied: qiskit-aer==0.10.4 in /home/vruiz/.local/lib/python3.10/site-packages (from qiskit->qiskit-textbook==0.1.0) (0.10.4)\n",
      "Requirement already satisfied: qiskit-ibmq-provider==0.19.1 in /home/vruiz/.local/lib/python3.10/site-packages (from qiskit->qiskit-textbook==0.1.0) (0.19.1)\n",
      "Requirement already satisfied: qiskit-ignis==0.7.1 in /home/vruiz/.local/lib/python3.10/site-packages (from qiskit->qiskit-textbook==0.1.0) (0.7.1)\n",
      "Requirement already satisfied: scipy>=1.0 in /home/vruiz/.local/lib/python3.10/site-packages (from qiskit-aer==0.10.4->qiskit->qiskit-textbook==0.1.0) (1.7.3)\n",
      "Requirement already satisfied: requests>=2.19 in /usr/lib/python3.10/site-packages (from qiskit-ibmq-provider==0.19.1->qiskit->qiskit-textbook==0.1.0) (2.27.1)\n",
      "Requirement already satisfied: requests-ntlm>=1.1.0 in /home/vruiz/.local/lib/python3.10/site-packages (from qiskit-ibmq-provider==0.19.1->qiskit->qiskit-textbook==0.1.0) (1.1.0)\n",
      "Requirement already satisfied: urllib3>=1.21.1 in /usr/lib/python3.10/site-packages (from qiskit-ibmq-provider==0.19.1->qiskit->qiskit-textbook==0.1.0) (1.26.9)\n",
      "Requirement already satisfied: websocket-client>=1.0.1 in /home/vruiz/.local/lib/python3.10/site-packages (from qiskit-ibmq-provider==0.19.1->qiskit->qiskit-textbook==0.1.0) (1.3.2)\n",
      "Requirement already satisfied: websockets>=10.0 in /home/vruiz/.local/lib/python3.10/site-packages (from qiskit-ibmq-provider==0.19.1->qiskit->qiskit-textbook==0.1.0) (10.3)\n"
     ]
    },
    {
     "name": "stdout",
     "output_type": "stream",
     "text": [
      "Requirement already satisfied: retworkx>=0.8.0 in /home/vruiz/.local/lib/python3.10/site-packages (from qiskit-ignis==0.7.1->qiskit->qiskit-textbook==0.1.0) (0.11.0)\n",
      "Requirement already satisfied: ply>=3.10 in /usr/lib/python3.10/site-packages (from qiskit-terra==0.20.2->qiskit->qiskit-textbook==0.1.0) (3.11)\n",
      "Requirement already satisfied: psutil>=5 in /usr/lib/python3.10/site-packages (from qiskit-terra==0.20.2->qiskit->qiskit-textbook==0.1.0) (5.9.0)\n",
      "Requirement already satisfied: sympy>=1.3 in /home/vruiz/.local/lib/python3.10/site-packages (from qiskit-terra==0.20.2->qiskit->qiskit-textbook==0.1.0) (1.10.1)\n",
      "Requirement already satisfied: dill>=0.3 in /home/vruiz/.local/lib/python3.10/site-packages (from qiskit-terra==0.20.2->qiskit->qiskit-textbook==0.1.0) (0.3.5.1)\n",
      "Requirement already satisfied: python-constraint>=1.4 in /home/vruiz/.local/lib/python3.10/site-packages (from qiskit-terra==0.20.2->qiskit->qiskit-textbook==0.1.0) (1.4.0)\n",
      "Requirement already satisfied: stevedore>=3.0.0 in /home/vruiz/.local/lib/python3.10/site-packages (from qiskit-terra==0.20.2->qiskit->qiskit-textbook==0.1.0) (3.5.0)\n",
      "Requirement already satisfied: tweedledum<2.0,>=1.1 in /home/vruiz/.local/lib/python3.10/site-packages (from qiskit-terra==0.20.2->qiskit->qiskit-textbook==0.1.0) (1.1.1)\n",
      "Requirement already satisfied: symengine>=0.9 in /home/vruiz/.local/lib/python3.10/site-packages (from qiskit-terra==0.20.2->qiskit->qiskit-textbook==0.1.0) (0.9.2)\n",
      "Requirement already satisfied: chardet>=3.0.2 in /usr/lib/python3.10/site-packages (from requests>=2.19->qiskit-ibmq-provider==0.19.1->qiskit->qiskit-textbook==0.1.0) (4.0.0)\n",
      "Requirement already satisfied: idna>=2.5 in /usr/lib/python3.10/site-packages (from requests>=2.19->qiskit-ibmq-provider==0.19.1->qiskit->qiskit-textbook==0.1.0) (3.3)\n",
      "Requirement already satisfied: ntlm-auth>=1.0.2 in /home/vruiz/.local/lib/python3.10/site-packages (from requests-ntlm>=1.1.0->qiskit-ibmq-provider==0.19.1->qiskit->qiskit-textbook==0.1.0) (1.5.0)\n",
      "Requirement already satisfied: cryptography>=1.3 in /usr/lib/python3.10/site-packages (from requests-ntlm>=1.1.0->qiskit-ibmq-provider==0.19.1->qiskit->qiskit-textbook==0.1.0) (37.0.2)\n",
      "Requirement already satisfied: pbr!=2.1.0,>=2.0.0 in /home/vruiz/.local/lib/python3.10/site-packages (from stevedore>=3.0.0->qiskit-terra==0.20.2->qiskit->qiskit-textbook==0.1.0) (5.9.0)\n",
      "Requirement already satisfied: mpmath>=0.19 in /home/vruiz/.local/lib/python3.10/site-packages (from sympy>=1.3->qiskit-terra==0.20.2->qiskit->qiskit-textbook==0.1.0) (1.2.1)\n",
      "Requirement already satisfied: executing in /home/vruiz/.local/lib/python3.10/site-packages (from stack-data->ipython->qiskit-textbook==0.1.0) (0.8.2)\n",
      "Requirement already satisfied: asttokens in /home/vruiz/.local/lib/python3.10/site-packages (from stack-data->ipython->qiskit-textbook==0.1.0) (2.0.5)\n",
      "Requirement already satisfied: pure-eval in /home/vruiz/.local/lib/python3.10/site-packages (from stack-data->ipython->qiskit-textbook==0.1.0) (0.2.1)\n",
      "Defaulting to user installation because normal site-packages is not writeable\n",
      "Requirement already satisfied: numexpr in /home/vruiz/.local/lib/python3.10/site-packages (2.8.1)\n",
      "Requirement already satisfied: numpy>=1.13.3 in /usr/lib/python3.10/site-packages (from numexpr) (1.22.4)\n",
      "Requirement already satisfied: packaging in /usr/lib/python3.10/site-packages (from numexpr) (21.3)\n",
      "Requirement already satisfied: pyparsing!=3.0.5,>=2.0.2 in /usr/lib/python3.10/site-packages (from packaging->numexpr) (3.0.9)\n",
      "Defaulting to user installation because normal site-packages is not writeable\n",
      "Requirement already satisfied: pylatexenc in /home/vruiz/.local/lib/python3.10/site-packages (2.10)\n",
      "Defaulting to user installation because normal site-packages is not writeable\n",
      "Requirement already satisfied: seaborn in /home/vruiz/.local/lib/python3.10/site-packages (0.11.2)\n",
      "Requirement already satisfied: numpy>=1.15 in /usr/lib/python3.10/site-packages (from seaborn) (1.22.4)\n",
      "Requirement already satisfied: scipy>=1.0 in /home/vruiz/.local/lib/python3.10/site-packages (from seaborn) (1.7.3)\n",
      "Requirement already satisfied: pandas>=0.23 in /home/vruiz/.local/lib/python3.10/site-packages (from seaborn) (1.4.2)\n",
      "Requirement already satisfied: matplotlib>=2.2 in /home/vruiz/.local/lib/python3.10/site-packages (from seaborn) (3.5.1)\n",
      "Requirement already satisfied: cycler>=0.10 in /home/vruiz/.local/lib/python3.10/site-packages (from matplotlib>=2.2->seaborn) (0.11.0)\n",
      "Requirement already satisfied: fonttools>=4.22.0 in /home/vruiz/.local/lib/python3.10/site-packages (from matplotlib>=2.2->seaborn) (4.28.5)\n",
      "Requirement already satisfied: kiwisolver>=1.0.1 in /home/vruiz/.local/lib/python3.10/site-packages (from matplotlib>=2.2->seaborn) (1.3.2)\n",
      "Requirement already satisfied: packaging>=20.0 in /usr/lib/python3.10/site-packages (from matplotlib>=2.2->seaborn) (21.3)\n",
      "Requirement already satisfied: pillow>=6.2.0 in /home/vruiz/.local/lib/python3.10/site-packages (from matplotlib>=2.2->seaborn) (9.0.0)\n",
      "Requirement already satisfied: pyparsing>=2.2.1 in /usr/lib/python3.10/site-packages (from matplotlib>=2.2->seaborn) (3.0.9)\n",
      "Requirement already satisfied: python-dateutil>=2.7 in /home/vruiz/.local/lib/python3.10/site-packages (from matplotlib>=2.2->seaborn) (2.8.2)\n",
      "Requirement already satisfied: pytz>=2020.1 in /home/vruiz/.local/lib/python3.10/site-packages (from pandas>=0.23->seaborn) (2022.1)\n",
      "Requirement already satisfied: six>=1.5 in /usr/lib/python3.10/site-packages (from python-dateutil>=2.7->matplotlib>=2.2->seaborn) (1.16.0)\n"
     ]
    }
   ],
   "source": [
    "!pip install qiskit\n",
    "!pip install git+https://github.com/qiskit-community/qiskit-textbook.git#subdirectory=qiskit-textbook-src\n",
    "!pip install numexpr\n",
    "!pip install pylatexenc\n",
    "!pip install seaborn\n",
    "\n",
    "pip install pip install git+https://github.com/mkrphys/ipython-tikzmagic.git\n",
    "%load_ext tikzmagic"
   ]
  },
  {
   "cell_type": "code",
   "execution_count": 21,
   "id": "a2945e69",
   "metadata": {},
   "outputs": [],
   "source": [
    "from qiskit import *\n",
    "from qiskit.visualization import plot_histogram\n",
    "from qiskit import QuantumCircuit, execute, Aer\n",
    "from qiskit_textbook.widgets import plot_bloch_vector_spherical\n",
    "from qiskit.visualization import plot_state_city\n",
    "from qiskit.visualization import plot_state_paulivec, plot_state_hinton\n",
    "from qiskit.visualization import plot_state_qsphere\n",
    "from qiskit.quantum_info import Statevector\n",
    "from qiskit.tools.visualization import plot_bloch_multivector\n",
    "\n",
    "from math import sqrt, pi\n",
    "import numpy as np"
   ]
  },
  {
   "cell_type": "code",
   "execution_count": null,
   "id": "c37aad03",
   "metadata": {},
   "outputs": [],
   "source": [
    "# Define a quamtum simulator\n",
    "backend = Aer.get_backend('statevector_simulator')"
   ]
  },
  {
   "cell_type": "markdown",
   "id": "44ffcb82",
   "metadata": {},
   "source": [
    "# Quantum Computing\n",
    "\n",
    "Quantum Computing (QC) takes advantage of the features of the Quantum Mechanics to provide massively parallel computing resources to solve certain problems."
   ]
  },
  {
   "cell_type": "markdown",
   "id": "432d2994",
   "metadata": {},
   "source": [
    "## Some words about [Quantum Mechanics](https://en.wikipedia.org/wiki/Introduction_to_quantum_mechanics)\n",
    "\n",
    "Quantum Mechanics (QM) is the study of matter and its interactions with energy on the scale of atomic and subatomic particles. QM shows that many properties of objects, such as position, speed, and angular momentum, that appeared continuous in the zoomed-out view of classical mechanics, turn out to be (in the very tiny, zoomed-in scale of QM) quantized. Such properties of elementary particles are required to take on one of a set of small, discrete allowable values, and since the gap between these values is also small, the discontinuities are only apparent at very tiny (atomic) scales.\n",
    "\n",
    "Many aspects of QM are counterintuitive and can seem paradoxical because they describe behavior quite different from that seen at larger scales. For example, the [uncertainty principle](https://en.wikipedia.org/wiki/Uncertainty_principle) of QM means that the more closely one pins down one measurement (such as the position of a particle), the less accurate another complementary measurement pertaining to the same particle (such as its speed) must become. The uncertainty principle shows mathematically that the product of the uncertainty in the position and momentum of a particle (momentum is velocity multiplied by mass) could never be less than a certain value, and that this value is related to Planck's constant. \n",
    "\n",
    "Another example is[entanglement](https://en.wikipedia.org/wiki/Quantum_entanglement), in which a measurement of any two-valued state of a particle (such as light polarized up or down) made on either of two \"entangled\" particles that are very far apart causes a subsequent measurement on the other particle to always be the other of the two values (such as polarized in the opposite direction). A final example is superfluidity, in which a container of liquid helium, cooled down to near absolute zero in temperature spontaneously flows (slowly) up and over the opening of its container, against the force of gravity.\n",
    "\n",
    "In 1913 Niels Bohr proposed a new model of the atom that included quantized electron orbits: electrons still orbit the nucleus much as planets orbit around the sun, but they are permitted to inhabit only certain orbits, not to orbit at any arbitrary distance. When an atom emitted (or absorbed) energy, the electron did not move in a continuous trajectory from one orbit around the nucleus to another, as might be expected classically. Instead, the electron would jump instantaneously from one orbit to another, giving off the emitted light in the form of a photon. The electron's wavelength determines that only Bohr orbits of certain distances from the nucleus are possible. In turn, at any distance from the nucleus smaller than a certain value, it would be impossible to establish an orbit. The minimum possible distance from the nucleus is called the Bohr radius.\n",
    "\n",
    "In 1925, Erwin Schrödinger developed the equation that describes the behavior of a quantum-mechanical wave: the Schrödinger equation defines the permitted stationary states of a quantum system, and describes how the quantum state of a physical system changes in time. Afer a measurement, a wave function \"collapses\" means that a measurement has forced or converted a quantum (probabilistic or potential) state into a definite measured value. For example, before a photon actually \"shows up\" on a detection screen it can be described only with a set of probabilities for where it might show up. When it does appear, for instance in the CCD of an electronic camera, the time and space where it interacted with the device are known within very tight limits. However, the photon has disappeared in the process of being captured (measured), and its quantum wave function has disappeared with it. In its place, some macroscopic physical change in the detection screen has appeared, e.g., an exposed spot in a sheet of photographic film, or a change in electric potential in some cell of a CCD.\n",
    "\n",
    "In 1929, Louis de Broglie won the Nobel Prize in Physics for his prediction that matter acts as a wave (apart from acts a particles). This is known as the Wave–Particle Duality and there is an experiment the [Double-Slit Experiment](https://en.wikipedia.org/wiki/Introduction_to_quantum_mechanics#The_double-slit_experiment)) that show this. In this experiment, the \"quantum\" particle acts as a wave when passing through the double slits, but as a particle when it is detected.\n",
    "\n",
    "In 1931 Ralph Kronig originated the theory that particles such as atoms or electrons behave as if they rotate, or \"spin\", about an axis. Spin would account for the missing magnetic moment, and allow two electrons in the same orbital to occupy distinct quantum states if they \"spun\" in opposite directions, thus satisfying the exclusion principle. This can be seen in the Stern–Gerlach experiment. The Stern–Gerlach experiment demonstrates several important features of QM:\n",
    "\n",
    "* A feature of the natural world is quantized, and able to take only certain discrete values.\n",
    "* Particles possess an intrinsic angular momentum that is closely analogous to the angular momentum of a classically spinning object.\n",
    "* Measurement changes the system being measured in quantum mechanics. Only the spin of an object in one direction can be known, and observing the spin in another direction destroys the original information about the spin.\n",
    "* QM is probabilistic: whether the spin of any individual atom sent into the apparatus is positive or negative is random.\n",
    "\n"
   ]
  },
  {
   "cell_type": "markdown",
   "id": "c546c707",
   "metadata": {},
   "source": [
    "## Basics of [Quantum Computing](https://learn.qiskit.org/course/introduction)"
   ]
  },
  {
   "cell_type": "markdown",
   "id": "003ab131",
   "metadata": {},
   "source": [
    "### Coherence time\n",
    "\n",
    "A quantum object (for example, a quantum bit (qubit)) is at the same time wave and particle. In fact, qubits operate like waves and are measured as particles. Ideally, the frequency components of the weaves should not change over time, at least without any external influence. However, due to physical issues this is not true and the quantum systems has a feature known as the **coherence time** that quantifies how long the state of the qubits remain measurable. Using the current technology, the coherence time is at most of fome seconds."
   ]
  },
  {
   "cell_type": "markdown",
   "id": "e1982537",
   "metadata": {},
   "source": [
    "### Qubits cannot be replicated\n",
    "\n",
    "At least with the current technology, when a measurement is performed on a qubit, the wave is transformed into a particle (for example, a photon) and some characteristic(s) of the original wave is(are) lost. For this reason, **the qubits cannot replicated**. Remember, to know the state of a qubit, it must be measured, action that \"**collapses**\" the quantum state of the qubit (with a phase and an amplitude) to one of two posibilities (for example, the up sping and the down spin of an electron), |0> or |1> depending on the distance of the state to such values, with some probability (the measurement is not deterministic). For this reason, the quantum machines must run the algorithms several times to increase the estatistical significance of the results. Notice that we cannot measure the phase of the qubit, only if is |0> or |1> with amplitude 1."
   ]
  },
  {
   "cell_type": "markdown",
   "id": "e58aad94",
   "metadata": {},
   "source": [
    "### Mathematical representation of a qubit\n",
    "\n",
    "The state of a single qubit can be expresed by a vector written in the form of\n",
    "$$\n",
    "|\\psi⟩\n",
    " =\\alpha_0|0⟩+\\alpha_1|1⟩\n",
    "$$\n",
    "where the coefficients $\\alpha_0, \\alpha_1\\in \\mathbb{C}$ represent the amplitude of the measurement of the bit 0 and 1, respectively, and where\n",
    "$$\n",
    "|0⟩ = \\begin{bmatrix}\n",
    "   1 \\\\\n",
    "   0\n",
    "\\end{bmatrix}\n",
    "\\qquad\\text{and}\\qquad\n",
    "|1⟩ = \\begin{bmatrix}\n",
    "   0 \\\\\n",
    "   1\n",
    "\\end{bmatrix}\n",
    "$$\n",
    "are orthonormal basis (a *computational basis* in the context of quantum computing), i.e., any other single-qubit state can be expressed as a linear combination of these basis vectors (which might correspond e.g. to the spin-up and spin-down states of an electron that can be controlled by microwave impulses). By definition, all states must be normalized in energy and must satisfy that $|\\alpha_0|^2 + |\\alpha_1|^2 = 1$ (in other words, the inner product $\\langle \\psi|\\psi\\rangle=1)$.\n",
    "It can be also written that\n",
    "$$\n",
    "|\\psi⟩\n",
    " =\\alpha_0\\begin{bmatrix}\n",
    "   1 \\\\\n",
    "   0\n",
    "\\end{bmatrix}+\\alpha_1\\begin{bmatrix}\n",
    "   0 \\\\\n",
    "   1\n",
    "\\end{bmatrix} = \n",
    "\\begin{bmatrix}\n",
    "   \\alpha_0 \\\\\n",
    "   \\alpha_1\n",
    "\\end{bmatrix}.\n",
    "$$\n",
    "\n",
    "Notice that $\\langle 0|1\\rangle = 0$."
   ]
  },
  {
   "cell_type": "markdown",
   "id": "c73275da",
   "metadata": {},
   "source": [
    "3. The vector that represents the state of a qubit (or a register of qubits) is called *state vector*. The components of a vector state indicate the amplitude of the corresponding measurement (for example, for two qubits, the amplitude of measuring 00, 01, 10 and 11), each one with a given probability that depends on the number of posible outcomes (1/4 for the case of two qubits). Notice that if the corresponding outcome has a 0 amplitude, it must not be considered in the computation of the probabilities (if we are simulating the quantum circuit). For example, if we have the state vector\n",
    "$$\n",
    "|\\psi\\rangle=\n",
    "\\begin{bmatrix}\n",
    "  \\sqrt{\\frac{1}{2}} \\\\\n",
    "  \\sqrt{\\frac{1}{2}} \\\\ \n",
    "  0 \\\\\n",
    "  0\n",
    "\\end{bmatrix} =\n",
    "\\sqrt{\\frac{1}{2}}(|00\\rangle + |01\\rangle),\n",
    "$$\n",
    "the probability of measuring the outcome 00 is $\\frac{1}{2}$, where\n",
    "$$\n",
    "|00\\rangle =\n",
    "\\begin{bmatrix}\n",
    "  1 \\\\ 0 \\\\ 0 \\\\ 0\n",
    "\\end{bmatrix},\n",
    "\\qquad\n",
    "|01\\rangle =\n",
    "\\begin{bmatrix}\n",
    "  0 \\\\ 1 \\\\ 0 \\\\ 0\n",
    "\\end{bmatrix},\n",
    "\\qquad\n",
    "|10\\rangle =\n",
    "\\begin{bmatrix}\n",
    "  0 \\\\ 0 \\\\ 1 \\\\ 0\n",
    "\\end{bmatrix}\\text{, and}\n",
    "\\qquad\n",
    "|11\\rangle =\n",
    "\\begin{bmatrix}\n",
    "  0 \\\\ 0 \\\\ 0 \\\\ 1\n",
    "\\end{bmatrix}\n",
    "$$\n",
    "form a *computational basis*. In this case, we say that the states $|00\\rangle$ and $|01\\rangle$ are *superposed*.\n",
    "\n",
    "3. The [tensor product](https://en.wikipedia.org/wiki/Tensor_product) (or Kronecker product), denoted by $\\otimes$, is used to combine quantum states, and it is the heart of digital simulators. The combined state for a qubit register is the tensor product of the constituent qubits. A theoretical example:\n",
    "$$\n",
    "| a b \\rangle = |a\\rangle |b\\rangle =\n",
    "| a \\rangle \\otimes | b \\rangle =\n",
    "\\begin{bmatrix}\n",
    "  \\alpha_0 \\\\\n",
    "  \\alpha_1\n",
    "\\end{bmatrix} \\otimes\n",
    "\\begin{bmatrix}\n",
    "  \\beta_0 \\\\\n",
    "  \\beta_1\n",
    "\\end{bmatrix} =\n",
    "\\begin{bmatrix}\n",
    "  \\alpha_0\n",
    "  \\begin{bmatrix}\n",
    "    \\beta_0 \\\\\n",
    "    \\beta_1\n",
    "  \\end{bmatrix} \\\\\n",
    "  \\alpha_1\n",
    "  \\begin{bmatrix}\n",
    "    \\beta_0 \\\\\n",
    "    \\beta_1\n",
    "  \\end{bmatrix}\n",
    "\\end{bmatrix} =\n",
    "\\begin{bmatrix}\n",
    "  \\alpha_0\\beta_0 \\\\\n",
    "  \\alpha_0\\beta_1 \\\\ \n",
    "  \\alpha_1\\beta_0 \\\\\n",
    "  \\alpha_1\\beta_1\n",
    "\\end{bmatrix} =\n",
    "\\alpha_0\\beta_0|00⟩ + \\alpha_0\\beta_1|01⟩ + \\alpha_1\\beta_0|10⟩ + \\alpha_1\\beta_1|11⟩,\n",
    "$$\n",
    "where\n",
    "$$\n",
    "(\\alpha_0\\beta_0)^2 + (\\alpha_0\\beta_1)^2 + (\\alpha_1\\beta_0)^2 + (\\alpha_1\\beta_1)^2=1.\n",
    "$$\n",
    "Notice that the number of possible states of a quantum computer is $2^n$ where $n$ is the number of qubits. In other words, the number of coefficients (that represents the amplitude of the qubit of being in the corresponding state, for example, 00) of a *state vector* (that represents the state of a quantum register) is $2^n$ for $n$ qubits."
   ]
  },
  {
   "cell_type": "code",
   "execution_count": 2,
   "id": "98cc56cd",
   "metadata": {},
   "outputs": [
    {
     "name": "stdout",
     "output_type": "stream",
     "text": [
      "Statevector([1.+0.j, 0.+0.j],\n",
      "            dims=(2,))\n"
     ]
    }
   ],
   "source": [
    "# Show the state vector of qubit |0>:\n",
    "\n",
    "from qiskit import QuantumCircuit\n",
    "from qiskit.quantum_info import Statevector\n",
    "\n",
    "qc = QuantumCircuit(1) # Define one qubit\n",
    "sv = Statevector(qc)  # Compute the state vector\n",
    "print(sv.draw())"
   ]
  },
  {
   "cell_type": "code",
   "execution_count": 4,
   "id": "ae36041b",
   "metadata": {},
   "outputs": [
    {
     "name": "stdout",
     "output_type": "stream",
     "text": [
      "Statevector([6.123234e-17+0.j, 0.000000e+00+0.j, 1.000000e+00+0.j,\n",
      "             0.000000e+00+0.j],\n",
      "            dims=(2, 2))\n"
     ]
    }
   ],
   "source": [
    "# Show the state vector of qubits |10>):\n",
    "\n",
    "from qiskit import QuantumCircuit\n",
    "from qiskit.quantum_info import Statevector\n",
    "\n",
    "qc = QuantumCircuit(2)   # Define one qubit\n",
    "qc.initialize([0, 1], 1) # The 1th qubit is |1⟩\n",
    "sv = Statevector(qc)     # Compute the state vector\n",
    "print(sv.draw())"
   ]
  },
  {
   "cell_type": "markdown",
   "id": "387da999",
   "metadata": {},
   "source": [
    "### What is different from clasical bits?\n",
    "\n",
    "* A (clasical) bit can be 0 or 1.\n",
    "* A qubit can be $|0⟩$ and $|1⟩$, at the same time thanks to the superposition. Therefore, with one qubit we represent \"in parallel\" a operation but for the two possible values. For example, denoting a quantum state $|\\psi⟩$ in a \"50% superposition\" of (being at the same time) $|0⟩$ and $|1⟩$ could be written as:\n",
    "\n",
    "$$\n",
    "|\\psi⟩=\n",
    "\\begin{bmatrix}\n",
    "   \\frac{1}{\\sqrt{2}} \\\\\n",
    "   \\frac{i}{\\sqrt{2}}\n",
    "\\end{bmatrix}=\n",
    "\\frac{1}{\\sqrt{2}}\\begin{bmatrix}\n",
    "   1 \\\\\n",
    "   0\n",
    "\\end{bmatrix} +\n",
    "\\frac{i}{\\sqrt{2}}\\begin{bmatrix}\n",
    "   0 \\\\\n",
    "   1\n",
    "\\end{bmatrix} =\n",
    "\\frac{1}{\\sqrt{2}}|0⟩ +\n",
    "\\frac{i}{\\sqrt{2}}|1⟩\n",
    "$$\n",
    "\n",
    "And this is true for concatenation of qubits bits.\n",
    "\n",
    "* Two bits can be 00, (or) 01, (or) 10 or 11.\n",
    "* Two qubits $|\\psi\\phi⟩=\\alpha_{00}|00⟩ + \\alpha_{01}|01⟩ + \\alpha_{10}|10⟩ + \\alpha_{11}|11⟩$ can be $|00⟩$, (and) $|01⟩$, (and) $|10⟩$, and $|11⟩$, at the same time. Therefore, we can be performing a operation to all the combinations of 2 qubits at the same time.\n",
    "\n",
    "Notice that a quantum state (the value of a qubit before a measurement, that always is a probabilistic process) can be a complex number."
   ]
  },
  {
   "cell_type": "markdown",
   "id": "3aafb498",
   "metadata": {},
   "source": [
    "## Quantum algorithm\n",
    "\n",
    "So what is the general flow of a quantum algorithm? First, we prepare the superposition. Then we encode the problem information into the superposition and manipulate it in a high dimensional space. Finally, we apply interference to consolidate the superposition into fewer outcomes. (Note: there are other possibilities and omitted for simplicity.)\n"
   ]
  },
  {
   "cell_type": "markdown",
   "id": "242cd9b9",
   "metadata": {},
   "source": [
    "## Measuring qubits\n",
    "\n",
    "* In quantum mechanics, measurements collapse to one of the possible observed states. Let\n",
    "$$\n",
    "|\\psi⟩\n",
    " =\\alpha_0|0⟩+\\alpha_1|1⟩.\n",
    "$$\n",
    "After measuring $|\\psi⟩$ we will obtain 0 with probability $|\\alpha_0|^2$ and 1 with probability $|\\alpha_0|^2$ (remember that quantum state coefficients can be complex numbers and $i^2=-1$), where $|\\alpha_0|^2 + |\\alpha_0|^2 = 1$. For example, if\n",
    "$$\n",
    "|\\psi⟩\n",
    " =\\frac{1}{\\sqrt{2}}|0⟩+\\frac{1}{\\sqrt{2}}|1⟩\n",
    "$$\n",
    "we will obtain 0 or 1 with the same probability $1/2$.\n",
    "\n",
    "* Notice that after measuring a register of qubits, its quantum state (i.e., the possible superposition state) is lost."
   ]
  },
  {
   "cell_type": "markdown",
   "id": "33bd7de0",
   "metadata": {},
   "source": [
    "## Probabilities are not enough\n",
    "We cannot describe some quantum states using only probabilities, because qubits are waves and have amplitude and phase."
   ]
  },
  {
   "cell_type": "markdown",
   "id": "620d3adb",
   "metadata": {},
   "source": [
    "## [The Bloch Sphere](https://en.wikipedia.org/wiki/Bloch_sphere)\n",
    "\n",
    "Shows the state of a qubit. Let\n",
    "$$\n",
    "|\\psi\\rangle = \\alpha|0\\rangle + \\beta|1\\rangle, ~\\alpha,\\beta\\in\\mathbb{C}.\n",
    "$$\n",
    "Using the [modulus, argument (phase)]-representation,\n",
    "$$\n",
    "|\\psi\\rangle = r_\\alpha e^{i\\phi_\\alpha}|0\\rangle + r_\\beta e^{i\\phi_\\beta}|1\\rangle, ~r_\\alpha,r_\\beta,\\phi_\\alpha,\\phi_\\beta\\in\\mathbb{R}.\n",
    "$$\n",
    "\n",
    "We can decrease the number of parameters to represent $|\\psi\\rangle$ taking into cosideration that the physical properties of the qubit does not change if the multiply the qubit by $1e^{-i\\psi_\\alpha}$. In other words,\n",
    "$$\n",
    "|\\psi\\rangle \\equiv\n",
    "1e^{-i\\psi_\\alpha} |\\psi\\rangle =\n",
    "r_\\alpha|0\\rangle + r_\\beta e^{i(\\psi_\\beta-\\psi_\\alpha)}|1\\rangle,\\qquad\\text{(1)}\n",
    "$$\n",
    "where $r_\\alpha$ and $r_\\beta$ are the absolute values of the amplitudes of $\\alpha$ and $\\beta$. The square of the absolute value of each amplitude indicates the probability to measure the qubit in the corresponding state, and therefore\n",
    "$$\n",
    "r_\\alpha^2 + r_\\beta^2 = 1,~r_\\alpha,r_\\beta=[0,1].\n",
    "$$\n",
    "If now we define $\\theta/2$ as the angle that $r_\\alpha$ and $r_\\beta$ describe"
   ]
  },
  {
   "cell_type": "markdown",
   "id": "218d2df4",
   "metadata": {},
   "source": [
    "<img src=\"graphics/r.svg\" width=\"150\"/>"
   ]
  },
  {
   "cell_type": "markdown",
   "id": "b1c6cbda",
   "metadata": {},
   "source": [
    "where\n",
    "$$\n",
    "r_\\alpha=\\cos\\frac{\\theta}{2}, \\qquad r_\\beta=\\sin\\frac{\\theta}{2}, \\qquad\\theta\\in[0,\\pi],\n",
    "$$\n",
    "we can write that\n",
    "$$\n",
    "|\\psi\\rangle = \\cos\\frac{\\theta}{2}|0\\rangle + \\sin\\frac{\\theta}{2}e^{i\\varphi}|1\\rangle\n",
    "$$\n",
    "where (see Eq. 1)\n",
    "$$\n",
    "\\varphi=\\varphi_\\beta-\\varphi_\\alpha,\\qquad\\varphi\\in[0,2\\pi[\n",
    "$$\n",
    "and\n",
    "$$\n",
    "\\theta = 2\\cos^{-1}r_\\alpha=2\\sin^{-1}r_\\beta.\n",
    "$$"
   ]
  },
  {
   "cell_type": "markdown",
   "id": "2a3736d7",
   "metadata": {},
   "source": [
    "<img src=\"bloch_sphere.png\" width=\"300\"/>"
   ]
  },
  {
   "cell_type": "markdown",
   "id": "d3141534",
   "metadata": {},
   "source": [
    "## Interaction between qubits\n",
    "\n",
    "When qubits interact with each other we must take into consideration that they behave like periodical 1D waves, with an amplitude (by definition, normalized between -1 and 1) and a phase. Therefore, some physical phenomena such as interferences can happen. For example, two qubits with the same amplitude can cancel each other if they have exactly the oposite plase."
   ]
  },
  {
   "cell_type": "markdown",
   "id": "70755e4f",
   "metadata": {},
   "source": [
    "### Entangled states\n",
    "\n",
    "Two (or more) qubits are entangled when we cannot express their state using a (tensor) product of states. For example\n",
    "$$\n",
    "|\\Phi^+\\rangle =\n",
    "\\frac{1}{\\sqrt{2}}\n",
    "\\begin{bmatrix}\n",
    "  1 \\\\ 0 \\\\ 0 \\\\ 1\n",
    "\\end{bmatrix}\n",
    "$$\n",
    "is an entangled state because there is not product between two qubits that generates such state.\n",
    "\n",
    "Entangled:\n",
    "$$\n",
    "\\frac{1}{\\sqrt{2}}(|00\\rangle + |11\\rangle)\n",
    "$$\n",
    "\n",
    "Not entangled:\n",
    "$$\n",
    "\\frac{1}{\\sqrt{2}}(|10\\rangle + |11\\rangle)\n",
    "$$\n"
   ]
  },
  {
   "cell_type": "markdown",
   "id": "78e465fe",
   "metadata": {},
   "source": [
    "### Define and measure a qubit (using [Qiskit](https://qiskit.org/))"
   ]
  },
  {
   "cell_type": "code",
   "execution_count": null,
   "id": "41e7492e",
   "metadata": {},
   "outputs": [],
   "source": []
  },
  {
   "cell_type": "markdown",
   "id": "19edeab1",
   "metadata": {},
   "source": [
    "#### Create a quantum circuit with one qubit"
   ]
  },
  {
   "cell_type": "code",
   "execution_count": null,
   "id": "d44f4637",
   "metadata": {},
   "outputs": [],
   "source": [
    "qc = QuantumCircuit(1 ,1) # Number of qubits, number of standard bits"
   ]
  },
  {
   "cell_type": "markdown",
   "id": "23c198dc",
   "metadata": {},
   "source": [
    "#### Tell Qiskit how to simulate our circuit"
   ]
  },
  {
   "cell_type": "code",
   "execution_count": null,
   "id": "98561529",
   "metadata": {},
   "outputs": [],
   "source": [
    "backend = Aer.get_backend('statevector_simulator')"
   ]
  },
  {
   "cell_type": "markdown",
   "id": "34e60f67",
   "metadata": {},
   "source": [
    "#### Define a $|0⟩$"
   ]
  },
  {
   "cell_type": "code",
   "execution_count": null,
   "id": "02bbde8f",
   "metadata": {},
   "outputs": [],
   "source": [
    "qc.initialize([1, 0], 0) # The 0th qubit is |0⟩"
   ]
  },
  {
   "cell_type": "markdown",
   "id": "fee51a88",
   "metadata": {},
   "source": [
    "#### \"Draw\" the circuit:"
   ]
  },
  {
   "cell_type": "code",
   "execution_count": null,
   "id": "174ec37f",
   "metadata": {},
   "outputs": [],
   "source": [
    "qc.measure([0], [0])\n",
    "qc.draw()"
   ]
  },
  {
   "cell_type": "code",
   "execution_count": null,
   "id": "63d25711",
   "metadata": {},
   "outputs": [],
   "source": [
    "qc = QuantumCircuit(1 ,1) \n",
    "qc.initialize([0, 1], 0) # The 0th qubit is |1⟩\n",
    "qc.measure([0], [0])\n",
    "qc.draw()"
   ]
  },
  {
   "cell_type": "markdown",
   "id": "d9c52576",
   "metadata": {},
   "source": [
    "Notice that the \"0\" below \"M\" references the bit index, not the bit value!"
   ]
  },
  {
   "cell_type": "markdown",
   "id": "d5f43de6",
   "metadata": {},
   "source": [
    "#### Run the circuit"
   ]
  },
  {
   "cell_type": "code",
   "execution_count": null,
   "id": "28e50116",
   "metadata": {},
   "outputs": [],
   "source": [
    "job = execute(qc, backend)\n",
    "result = job.result()\n",
    "quantum_state = result.get_statevector(qc, decimals=3)\n",
    "quantum_state"
   ]
  },
  {
   "cell_type": "code",
   "execution_count": null,
   "id": "f541794f",
   "metadata": {},
   "outputs": [],
   "source": [
    "plot_bloch_multivector(quantum_state)"
   ]
  },
  {
   "cell_type": "markdown",
   "id": "487bedfe",
   "metadata": {},
   "source": [
    "#### Measure the qubit (v1)"
   ]
  },
  {
   "cell_type": "code",
   "execution_count": null,
   "id": "e134d8b8",
   "metadata": {},
   "outputs": [],
   "source": [
    "counts = result.get_counts()\n",
    "print(counts)"
   ]
  },
  {
   "cell_type": "markdown",
   "id": "b88491ea",
   "metadata": {},
   "source": [
    "This indicates that the measured bit is 1 and that it has been measured just once."
   ]
  },
  {
   "cell_type": "code",
   "execution_count": null,
   "id": "492a46bc",
   "metadata": {},
   "outputs": [],
   "source": [
    "plot_histogram(counts)"
   ]
  },
  {
   "cell_type": "markdown",
   "id": "5f5fe467",
   "metadata": {},
   "source": [
    "## Quantum gates\n",
    "\n",
    "A quantum gates manipulates the spin/state of one or several qubits. In mathematical terms, quantum gates are linear operations. Because qubits are vectors, quantum gates are matrices. Quantum gates are reversible, meaning that applying a quantum gate allows you to figure out the original information as well. Notice that this implies that all of the matrices associated to a gate must be invertible (not singular). \n",
    "\n",
    "Each gate has a different \"transition matrix\" where the amplitudes of the qubits are modified.\n",
    "\n",
    "All gates must conserve the energy, i.e., the quantum gates are *unitary*.\n",
    "\n",
    "All gates have the same number of outputs than inputs."
   ]
  },
  {
   "cell_type": "markdown",
   "id": "8973d8e9",
   "metadata": {},
   "source": [
    "### The identity ($\\mathbf{I}$) Gate\n",
    "\n",
    "$$\n",
    "\\mathbf{I}=\\begin{bmatrix}\n",
    "   1 & 0 \\\\\n",
    "  0 & 1\n",
    "\\end{bmatrix}\n",
    "$$\n",
    "\n",
    "Unitary operation that perfoms\n",
    "\n",
    "$$\n",
    "\\mathbf{X}|0⟩=\n",
    "\\begin{bmatrix}\n",
    "   1 & 0 \\\\\n",
    "   0 & 1\n",
    "\\end{bmatrix}\n",
    "\\begin{bmatrix}\n",
    "   1 \\\\\n",
    "   0\n",
    "\\end{bmatrix}=\n",
    "\\begin{bmatrix}\n",
    "   1 \\\\\n",
    "   0\n",
    "\\end{bmatrix}=\n",
    "|0⟩\n",
    "\\qquad\n",
    "\\mathbf{X}|1⟩=\n",
    "\\begin{bmatrix}\n",
    "   1 & 0 \\\\\n",
    "   0 & 1\n",
    "\\end{bmatrix}\n",
    "\\begin{bmatrix}\n",
    "   0 \\\\\n",
    "   1\n",
    "\\end{bmatrix}=\n",
    "\\begin{bmatrix}\n",
    "   0 \\\\\n",
    "   1\n",
    "\\end{bmatrix}=\n",
    "|1⟩\n",
    "$$\n",
    "\n",
    "or simply\n",
    "\n",
    "$$\n",
    "\\begin{array}{l}\n",
    "|0⟩ \\rightarrow |0⟩\\\\\n",
    "|1⟩ \\rightarrow |1⟩.\n",
    "\\end{array}\n",
    "$$"
   ]
  },
  {
   "cell_type": "code",
   "execution_count": 45,
   "id": "981e272e",
   "metadata": {},
   "outputs": [
    {
     "data": {
      "image/png": "[encoded data removed]",
      "text/plain": [
       "<Figure size 253.926x144.48 with 1 Axes>"
      ]
     },
     "execution_count": 45,
     "metadata": {},
     "output_type": "execute_result"
    }
   ],
   "source": [
    "# Define a QC with one I gate applied to |0>.\n",
    "qc = QuantumCircuit(1, 1)\n",
    "qc.initialize([1, 0], 0) # The 0th qubit is |0⟩\n",
    "qc.i(qubit=0)\n",
    "qc.measure([0], [0])\n",
    "qc.draw(output='mpl')"
   ]
  },
  {
   "cell_type": "code",
   "execution_count": 46,
   "id": "558c1137",
   "metadata": {},
   "outputs": [
    {
     "name": "stdout",
     "output_type": "stream",
     "text": [
      "Statevector([1.+0.j, 0.+0.j],\n",
      "            dims=(2,))\n"
     ]
    },
    {
     "data": {
      "image/png": "[encoded data removed]",
      "text/plain": [
       "<Figure size 288x288 with 1 Axes>"
      ]
     },
     "execution_count": 46,
     "metadata": {},
     "output_type": "execute_result"
    }
   ],
   "source": [
    "# Simulate and visualize the state vector of the QC.\n",
    "job = execute(qc, backend)\n",
    "result = job.result()\n",
    "quantum_state = result.get_statevector(qc, decimals=3)\n",
    "print(quantum_state)\n",
    "plot_bloch_multivector(quantum_state)"
   ]
  },
  {
   "cell_type": "code",
   "execution_count": 44,
   "id": "031388b2",
   "metadata": {},
   "outputs": [
    {
     "data": {
      "image/png": "[encoded data removed]",
      "text/plain": [
       "<Figure size 504x360 with 1 Axes>"
      ]
     },
     "execution_count": 44,
     "metadata": {},
     "output_type": "execute_result"
    }
   ],
   "source": [
    "# Measure the output.\n",
    "counts = result.get_counts()\n",
    "plot_histogram(counts)"
   ]
  },
  {
   "cell_type": "code",
   "execution_count": 30,
   "id": "13fdde48",
   "metadata": {},
   "outputs": [
    {
     "data": {
      "image/png": "[encoded data removed]",
      "text/plain": [
       "<Figure size 253.926x144.48 with 1 Axes>"
      ]
     },
     "execution_count": 30,
     "metadata": {},
     "output_type": "execute_result"
    }
   ],
   "source": [
    "# Define a QC with one I gate applied to |1>.\n",
    "qc = QuantumCircuit(1, 1)\n",
    "qc.initialize([0, 1], 0) # The 0th qubit is |0⟩\n",
    "qc.i(qubit=0)\n",
    "qc.measure([0], [0])\n",
    "qc.draw(output='mpl')"
   ]
  },
  {
   "cell_type": "code",
   "execution_count": 36,
   "id": "ffb83073",
   "metadata": {},
   "outputs": [
    {
     "data": {
      "image/png": "[encoded data removed]",
      "text/plain": [
       "<Figure size 193.726x84.28 with 1 Axes>"
      ]
     },
     "execution_count": 36,
     "metadata": {},
     "output_type": "execute_result"
    }
   ],
   "source": [
    "qc = QuantumCircuit(1)\n",
    "backend = Aer.get_backend('statevector_simulator')\n",
    "qc.initialize([1, 0], 0) # The 0th qubit is |0⟩\n",
    "qc.i(qubit=0)\n",
    "qc.draw(output='mpl')"
   ]
  },
  {
   "cell_type": "code",
   "execution_count": 37,
   "id": "da6bbd12",
   "metadata": {
    "scrolled": true
   },
   "outputs": [
    {
     "name": "stdout",
     "output_type": "stream",
     "text": [
      "Statevector([1.+0.j, 0.+0.j],\n",
      "            dims=(2,))\n"
     ]
    }
   ],
   "source": [
    "job = execute(qc, backend)\n",
    "result = job.result()\n",
    "quantum_state = result.get_statevector(qc, decimals=3)\n",
    "quantum_state"
   ]
  },
  {
   "cell_type": "code",
   "execution_count": 38,
   "id": "432698df",
   "metadata": {},
   "outputs": [
    {
     "data": {
      "image/png": "[encoded data removed]",
      "text/plain": [
       "<Figure size 504x360 with 1 Axes>"
      ]
     },
     "execution_count": 38,
     "metadata": {},
     "output_type": "execute_result"
    }
   ],
   "source": [
    "counts = result.get_counts()\n",
    "plot_histogram(counts)"
   ]
  },
  {
   "cell_type": "code",
   "execution_count": 39,
   "id": "4f601092",
   "metadata": {},
   "outputs": [
    {
     "data": {
      "image/png": "[encoded data removed]",
      "text/plain": [
       "<Figure size 357.679x144.48 with 1 Axes>"
      ]
     },
     "execution_count": 39,
     "metadata": {},
     "output_type": "execute_result"
    }
   ],
   "source": [
    "qc.measure_all()\n",
    "qc.draw(output='mpl')"
   ]
  },
  {
   "cell_type": "markdown",
   "id": "7cdc96ad",
   "metadata": {},
   "source": [
    "### The Pauli $\\mathbf{X}$ gate\n",
    "\n",
    "$$\n",
    "\\mathbf{X}=\\begin{bmatrix}\n",
    "   0 & 1 \\\\\n",
    "   1 & 0\n",
    "\\end{bmatrix}\n",
    "$$\n",
    "\n",
    "This is a \"not\" gate:\n",
    "\n",
    "$$\n",
    "\\mathbf{X}|0⟩=\n",
    "\\begin{bmatrix}\n",
    "   0 & 1 \\\\\n",
    "   1 & 0\n",
    "\\end{bmatrix}\n",
    "\\begin{bmatrix}\n",
    "   1 \\\\\n",
    "   0\n",
    "\\end{bmatrix}=\n",
    "\\begin{bmatrix}\n",
    "   0 \\\\\n",
    "   1\n",
    "\\end{bmatrix}=\n",
    "|1⟩\n",
    "\\qquad\n",
    "\\mathbf{X}|1⟩=\n",
    "\\begin{bmatrix}\n",
    "   0 & 1 \\\\\n",
    "   1 & 0\n",
    "\\end{bmatrix}\n",
    "\\begin{bmatrix}\n",
    "   0 \\\\\n",
    "   1\n",
    "\\end{bmatrix}=\n",
    "\\begin{bmatrix}\n",
    "   1 \\\\\n",
    "   0\n",
    "\\end{bmatrix}=\n",
    "|0⟩\n",
    "$$\n",
    "\n",
    "Geometrically (in the Bloch sphere), we can visualize the $\\mathbf{X}$ gate rotating a quantum state by π radians about the X-axis."
   ]
  },
  {
   "cell_type": "markdown",
   "id": "1c949922",
   "metadata": {},
   "source": [
    "### Let's compute $\\mathbf{X}|0⟩$"
   ]
  },
  {
   "cell_type": "code",
   "execution_count": null,
   "id": "2ffb169e",
   "metadata": {},
   "outputs": [],
   "source": [
    "qc = QuantumCircuit(1)\n",
    "backend = Aer.get_backend('statevector_simulator')\n",
    "qc.initialize([1, 0], 0) # The 0th qubit is |0⟩\n",
    "qc.x(qubit=0)"
   ]
  },
  {
   "cell_type": "code",
   "execution_count": null,
   "id": "836d768b",
   "metadata": {},
   "outputs": [],
   "source": [
    "job = execute(qc, backend)\n",
    "result = job.result()\n",
    "quantum_state = result.get_statevector(qc, decimals=3)\n",
    "quantum_state"
   ]
  },
  {
   "cell_type": "code",
   "execution_count": null,
   "id": "1bcebf1b",
   "metadata": {},
   "outputs": [],
   "source": [
    "counts = result.get_counts()\n",
    "plot_histogram(counts)"
   ]
  },
  {
   "cell_type": "markdown",
   "id": "8e4c4fdf",
   "metadata": {},
   "source": [
    "### Let's compute $\\mathbf{X}|1⟩$"
   ]
  },
  {
   "cell_type": "code",
   "execution_count": null,
   "id": "6fd28ddb",
   "metadata": {},
   "outputs": [],
   "source": [
    "qc = QuantumCircuit(1)\n",
    "backend = Aer.get_backend('statevector_simulator')\n",
    "qc.initialize([0, 1], 0) # The 0th qubit is |0⟩\n",
    "qc.x(qubit=0)"
   ]
  },
  {
   "cell_type": "code",
   "execution_count": null,
   "id": "7a6f36bc",
   "metadata": {},
   "outputs": [],
   "source": [
    "job = execute(qc, backend)\n",
    "result = job.result()\n",
    "quantum_state = result.get_statevector(qc, decimals=3)\n",
    "quantum_state"
   ]
  },
  {
   "cell_type": "code",
   "execution_count": null,
   "id": "9ca4f7c0",
   "metadata": {},
   "outputs": [],
   "source": [
    "counts = result.get_counts()\n",
    "plot_histogram(counts)"
   ]
  },
  {
   "cell_type": "markdown",
   "id": "7b06e47e",
   "metadata": {},
   "source": [
    "### The Pauli Y Gate\n",
    "\n",
    "$$\n",
    "Y=\\begin{bmatrix}\n",
    "   0 & -i \\\\\n",
    "  i & 0\n",
    "\\end{bmatrix}\n",
    "$$\n",
    "\n",
    "The Y gate rotate a quantum state by $\\pi$ radians about the $y$ axe. \n",
    "\n",
    "$$\n",
    "Y|0⟩=\n",
    "\\begin{bmatrix}\n",
    "   0 & -i \\\\\n",
    "   i & 0\n",
    "\\end{bmatrix}\n",
    "\\begin{bmatrix}\n",
    "   1 \\\\\n",
    "   0\n",
    "\\end{bmatrix}=\n",
    "\\begin{bmatrix}\n",
    "   0 \\\\\n",
    "   i\n",
    "\\end{bmatrix}\n",
    "\\qquad\n",
    "Y|1⟩=\n",
    "\\begin{bmatrix}\n",
    "   0 & -i \\\\\n",
    "   i & 0\n",
    "\\end{bmatrix}\n",
    "\\begin{bmatrix}\n",
    "   0 \\\\\n",
    "   1\n",
    "\\end{bmatrix}=\n",
    "\\begin{bmatrix}\n",
    "   -i \\\\\n",
    "   0\n",
    "\\end{bmatrix}\n",
    "$$"
   ]
  },
  {
   "cell_type": "code",
   "execution_count": null,
   "id": "dce8a930",
   "metadata": {},
   "outputs": [],
   "source": [
    "qc = QuantumCircuit(1)\n",
    "backend = Aer.get_backend('statevector_simulator')\n",
    "qc.initialize([1, 0], 0) # The 0th qubit is |0⟩"
   ]
  },
  {
   "cell_type": "code",
   "execution_count": null,
   "id": "d986c0e7",
   "metadata": {},
   "outputs": [],
   "source": [
    "job = execute(qc, backend)\n",
    "result = job.result()\n",
    "quantum_state = result.get_statevector(qc, decimals=3)\n",
    "quantum_state"
   ]
  },
  {
   "cell_type": "code",
   "execution_count": null,
   "id": "6ec91af2",
   "metadata": {},
   "outputs": [],
   "source": [
    "plot_bloch_multivector(quantum_state)"
   ]
  },
  {
   "cell_type": "code",
   "execution_count": null,
   "id": "57c2dc71",
   "metadata": {},
   "outputs": [],
   "source": [
    "qc = QuantumCircuit(1)\n",
    "backend = Aer.get_backend('statevector_simulator')\n",
    "qc.initialize([1, 0], 0) # The 0th qubit is |0⟩\n",
    "qc.y(qubit=0)"
   ]
  },
  {
   "cell_type": "code",
   "execution_count": null,
   "id": "591ef774",
   "metadata": {},
   "outputs": [],
   "source": [
    "job = execute(qc, backend)\n",
    "result = job.result()\n",
    "quantum_state = result.get_statevector(qc, decimals=3)\n",
    "quantum_state"
   ]
  },
  {
   "cell_type": "code",
   "execution_count": null,
   "id": "1504bf28",
   "metadata": {},
   "outputs": [],
   "source": [
    "plot_bloch_multivector(quantum_state)"
   ]
  },
  {
   "cell_type": "markdown",
   "id": "8eaf106b",
   "metadata": {},
   "source": [
    "### The Pauli $\\mathbf{Z}$ Gate\n",
    "\n",
    "$$\n",
    "\\mathbf{Z}=\\begin{bmatrix}\n",
    "   1 & 0 \\\\\n",
    "  0 &-1\n",
    "\\end{bmatrix}\n",
    "$$\n",
    "\n",
    "The $\\mathbf{Z}$ gate rotate a quantum state by $\\pi$ radians about the $Z$ axe. \n",
    "\n",
    "$$\n",
    "\\mathbf{Z}|0⟩=\n",
    "\\begin{bmatrix}\n",
    "   1 & 0 \\\\\n",
    "   0 & -1\n",
    "\\end{bmatrix}\n",
    "\\begin{bmatrix}\n",
    "   1 \\\\\n",
    "   0\n",
    "\\end{bmatrix}=\n",
    "\\begin{bmatrix}\n",
    "   1 \\\\\n",
    "   0\n",
    "\\end{bmatrix}\n",
    "\\qquad\n",
    "\\mathbf{Z}|1⟩=\n",
    "\\begin{bmatrix}\n",
    "   1 & 0 \\\\\n",
    "   0 & -1\n",
    "\\end{bmatrix}\n",
    "\\begin{bmatrix}\n",
    "   0 \\\\\n",
    "   1\n",
    "\\end{bmatrix}=\n",
    "\\begin{bmatrix}\n",
    "   0 \\\\\n",
    "   -1\n",
    "\\end{bmatrix}\n",
    "$$\n",
    "\n",
    "We can see that applying the $\\mathbf{Z}$ gate to our basis vectors gives us the same measurement since the negative sign (phase; we can worry about that later) is inconsequential when we measure the quantum state. Thus, $|0⟩$ and $|1⟩$ are the eigenstates of the $\\mathbf{Z}$ gate and are often called the Z-basis."
   ]
  },
  {
   "cell_type": "code",
   "execution_count": null,
   "id": "9d97ff2a",
   "metadata": {},
   "outputs": [],
   "source": [
    "qc = QuantumCircuit(1)\n",
    "backend = Aer.get_backend('statevector_simulator')\n",
    "qc.initialize([1/2, sqrt(3)*1j/2], 0)"
   ]
  },
  {
   "cell_type": "code",
   "execution_count": null,
   "id": "10403548",
   "metadata": {},
   "outputs": [],
   "source": [
    "job = execute(qc, backend)\n",
    "result = job.result()\n",
    "quantum_state = result.get_statevector(qc, decimals=3)\n",
    "quantum_state"
   ]
  },
  {
   "cell_type": "code",
   "execution_count": null,
   "id": "398383cf",
   "metadata": {},
   "outputs": [],
   "source": [
    "plot_bloch_multivector(quantum_state)"
   ]
  },
  {
   "cell_type": "code",
   "execution_count": null,
   "id": "f8d36bb7",
   "metadata": {},
   "outputs": [],
   "source": [
    "qc = QuantumCircuit(1)\n",
    "backend = Aer.get_backend('statevector_simulator')\n",
    "qc.initialize([1/2, sqrt(3)*1j/2], 0) # The 0th qubit is |0⟩\n",
    "qc.z(qubit=0)"
   ]
  },
  {
   "cell_type": "code",
   "execution_count": null,
   "id": "f2a04959",
   "metadata": {},
   "outputs": [],
   "source": [
    "job = execute(qc, backend)\n",
    "result = job.result()\n",
    "quantum_state = result.get_statevector(qc, decimals=3)\n",
    "quantum_state"
   ]
  },
  {
   "cell_type": "code",
   "execution_count": null,
   "id": "44866b16",
   "metadata": {},
   "outputs": [],
   "source": [
    "plot_bloch_multivector(quantum_state)"
   ]
  },
  {
   "cell_type": "markdown",
   "id": "0f10f945",
   "metadata": {},
   "source": [
    "### The $\\mathbf{H}$ (Hadamard) Gate\n",
    "\n",
    "The H gate is defined by\n",
    "$$\n",
    "\\mathbf{H}= \\frac{1}{\\sqrt{2}}\n",
    "\\begin{bmatrix}\n",
    "   1 & 1 \\\\\n",
    "   1 & -1\n",
    "\\end{bmatrix},\n",
    "$$\n",
    "that when it is applied to the \"basis\" qubits, we generate \n",
    "$$\n",
    "\\mathbf{H}|0⟩= \\frac{1}{\\sqrt{2}}\n",
    "\\begin{bmatrix}\n",
    "   1 & 1 \\\\\n",
    "   1 & -1\n",
    "\\end{bmatrix}\n",
    "\\begin{bmatrix}\n",
    "   1 \\\\\n",
    "   0\n",
    "\\end{bmatrix}=\n",
    "\\frac{1}{\\sqrt{2}}\n",
    "\\begin{bmatrix}\n",
    "   1 \\\\\n",
    "   1\n",
    "\\end{bmatrix} = \\frac{|0\\rangle + |1\\rangle}{\\sqrt{2}} = \n",
    "|+⟩\n",
    "\\\\\n",
    "\\text{and}\n",
    "\\\\\n",
    "\\mathbf{H}|1⟩= \\frac{1}{\\sqrt{2}}\n",
    "\\begin{bmatrix}\n",
    "   1 & 1 \\\\\n",
    "   1 & -1\n",
    "\\end{bmatrix}\n",
    "\\begin{bmatrix}\n",
    "   0 \\\\\n",
    "   1\n",
    "\\end{bmatrix}=\n",
    "\\frac{1}{\\sqrt{2}}\n",
    "\\begin{bmatrix}\n",
    "   1 \\\\\n",
    "   -1\n",
    "\\end{bmatrix}= \\frac{|0\\rangle - |1\\rangle}{\\sqrt{2}} =\n",
    "|-⟩,\n",
    "$$\n",
    "that is commonly used as a computational basis (notice that $|+\\rangle$ and $|-\\rangle$ are orthogonal).\n",
    "\n",
    "We can see that hese states are the [eigenvectors](https://en.wikipedia.org/wiki/Eigenvalues_and_eigenvectors) for the $\\mathbf{X}$ gate because\n",
    "\n",
    "$$\n",
    "\\mathbf{X}|+⟩= \n",
    "\\begin{bmatrix}\n",
    "   0 & 1 \\\\\n",
    "   1 & 0\n",
    "\\end{bmatrix}\n",
    "\\frac{1}{\\sqrt{2}}\n",
    "\\begin{bmatrix}\n",
    "   1 \\\\\n",
    "   1\n",
    "\\end{bmatrix}=\n",
    "\\frac{1}{\\sqrt{2}}\n",
    "\\begin{bmatrix}\n",
    "   1 \\\\\n",
    "   1\n",
    "\\end{bmatrix} = |+⟩\n",
    "\\qquad\n",
    "\\mathbf{X}|-⟩= \n",
    "\\begin{bmatrix}\n",
    "   0 & 1 \\\\\n",
    "   1 & 0\n",
    "\\end{bmatrix}\n",
    "\\frac{1}{\\sqrt{2}}\n",
    "\\begin{bmatrix}\n",
    "   1 \\\\\n",
    "   -1\n",
    "\\end{bmatrix}=\n",
    "\\frac{1}{\\sqrt{2}}\n",
    "\\begin{bmatrix}\n",
    "   -1 \\\\\n",
    "   1\n",
    "\\end{bmatrix} = |-⟩\n",
    "$$\n",
    "\n",
    "\n",
    "\n",
    "The H-gate seems to give a 50-50 chance of transforming the qubit from |0⟩ (and |1⟩) to either |0⟩ or |1⟩. In a quantum computer, you can create a superposition state in a qubit using the Hadamard gate:\n",
    "\n",
    "\n",
    "We define\n",
    "\n",
    "\n",
    "Where $|+⟩$ and $|-⟩$ \n",
    "\n",
    "Geometrically the $\\mathbf{H}$ gate can be visualized as a rotation around the vector [1 0 1] on the Bloch sphere, which lies in between the X and Z-axis. This is also a way to transform a state between the X and Z bases."
   ]
  },
  {
   "cell_type": "code",
   "execution_count": null,
   "id": "75bade92",
   "metadata": {},
   "outputs": [],
   "source": [
    "qc = QuantumCircuit(1)\n",
    "backend = Aer.get_backend('statevector_simulator')\n",
    "qc.initialize([1, 0], 0)"
   ]
  },
  {
   "cell_type": "code",
   "execution_count": null,
   "id": "f73e5d43",
   "metadata": {},
   "outputs": [],
   "source": [
    "job = execute(qc, backend)\n",
    "result = job.result()\n",
    "quantum_state = result.get_statevector(qc, decimals=3)\n",
    "quantum_state"
   ]
  },
  {
   "cell_type": "code",
   "execution_count": null,
   "id": "04ac8964",
   "metadata": {},
   "outputs": [],
   "source": [
    "plot_bloch_multivector(quantum_state)"
   ]
  },
  {
   "cell_type": "code",
   "execution_count": null,
   "id": "c9602162",
   "metadata": {},
   "outputs": [],
   "source": [
    "qc = QuantumCircuit(1)\n",
    "backend = Aer.get_backend('statevector_simulator')\n",
    "qc.initialize([1, 0], 0) # The 0th qubit is |0⟩\n",
    "qc.h(qubit=0)"
   ]
  },
  {
   "cell_type": "code",
   "execution_count": null,
   "id": "36d7fa6c",
   "metadata": {},
   "outputs": [],
   "source": [
    "job = execute(qc, backend)\n",
    "result = job.result()\n",
    "quantum_state = result.get_statevector(qc, decimals=3)\n",
    "quantum_state"
   ]
  },
  {
   "cell_type": "code",
   "execution_count": null,
   "id": "68277bbf",
   "metadata": {},
   "outputs": [],
   "source": [
    "plot_bloch_multivector(quantum_state)"
   ]
  },
  {
   "cell_type": "markdown",
   "id": "db7cd1c0",
   "metadata": {},
   "source": [
    "### The $\\mathbf{R}_\\phi$ Gate (unfinished)\n",
    "\n",
    "This gate is parameterized by a real number 𝜙 and can be represented as\n",
    "$$\n",
    "R_\\phi= \n",
    "\\begin{bmatrix}\n",
    "   1 & 0 \\\\\n",
    "   0 & e^{i\\phi}\n",
    "\\end{bmatrix};\n",
    " \\quad \\phi\\in\\mathbb{R}.\n",
    " $$\n",
    " \n",
    "Geometrically, the $\\mathbf{R}_\\phi$ gate can be visualized as rotating a Bloch vector by a value of $\\phi$ about the Z-axis. Notice that the Pauli Z gate is just the $\\mathbf{R}_\\phi$ gate where $\\phi=\\pi$."
   ]
  },
  {
   "cell_type": "code",
   "execution_count": null,
   "id": "e2970591",
   "metadata": {},
   "outputs": [],
   "source": [
    "qc = QuantumCircuit(1)\n",
    "backend = Aer.get_backend('statevector_simulator')\n",
    "qc.initialize([1, 0], 0)"
   ]
  },
  {
   "cell_type": "code",
   "execution_count": null,
   "id": "23c33d3b",
   "metadata": {},
   "outputs": [],
   "source": [
    "job = execute(qc, backend)\n",
    "result = job.result()\n",
    "quantum_state = result.get_statevector(qc, decimals=3)\n",
    "quantum_state"
   ]
  },
  {
   "cell_type": "code",
   "execution_count": null,
   "id": "819449c4",
   "metadata": {},
   "outputs": [],
   "source": [
    "plot_bloch_multivector(quantum_state)"
   ]
  },
  {
   "cell_type": "code",
   "execution_count": null,
   "id": "caa1f5e8",
   "metadata": {},
   "outputs": [],
   "source": [
    "qc = QuantumCircuit(1)\n",
    "backend = Aer.get_backend('statevector_simulator')\n",
    "qc.initialize([1, 0], 0) # The 0th qubit is |0⟩\n",
    "qc.r(theta=45, phi=0, qubit=0)"
   ]
  },
  {
   "cell_type": "code",
   "execution_count": null,
   "id": "0cc30133",
   "metadata": {},
   "outputs": [],
   "source": [
    "job = execute(qc, backend)\n",
    "result = job.result()\n",
    "quantum_state = result.get_statevector(qc, decimals=3)\n",
    "quantum_state"
   ]
  },
  {
   "cell_type": "code",
   "execution_count": null,
   "id": "0634a445",
   "metadata": {},
   "outputs": [],
   "source": [
    "plot_bloch_multivector(quantum_state)"
   ]
  },
  {
   "cell_type": "markdown",
   "id": "3cb3375a",
   "metadata": {},
   "source": [
    "### The $\\mathbf{S}$ Gate (unfinished)\n",
    "\n",
    "The $\\mathbf{S}$ gate is the $\\mathbf{R}_\\phi$ gate where $\\phi=\\pi/2$. It is also called the $\\sqrt(\\mathbf{Z})$ gate as $\\mathbf{SS}|q⟩=\\mathbf{Z}|q⟩$."
   ]
  },
  {
   "cell_type": "code",
   "execution_count": null,
   "id": "27ed70da",
   "metadata": {},
   "outputs": [],
   "source": [
    "qc = QuantumCircuit(1)\n",
    "backend = Aer.get_backend('statevector_simulator')\n",
    "qc.initialize([1, 0], 0)"
   ]
  },
  {
   "cell_type": "code",
   "execution_count": null,
   "id": "fd331506",
   "metadata": {},
   "outputs": [],
   "source": [
    "job = execute(qc, backend)\n",
    "result = job.result()\n",
    "quantum_state = result.get_statevector(qc, decimals=3)\n",
    "quantum_state"
   ]
  },
  {
   "cell_type": "code",
   "execution_count": null,
   "id": "2709354d",
   "metadata": {},
   "outputs": [],
   "source": [
    "plot_bloch_multivector(quantum_state)"
   ]
  },
  {
   "cell_type": "code",
   "execution_count": null,
   "id": "e03ed48a",
   "metadata": {},
   "outputs": [],
   "source": [
    "qc = QuantumCircuit(1)\n",
    "backend = Aer.get_backend('statevector_simulator')\n",
    "qc.initialize([1, 0], 0) # The 0th qubit is |0⟩\n",
    "qc.r(theta=45, phi=0, qubit=0)"
   ]
  },
  {
   "cell_type": "code",
   "execution_count": null,
   "id": "69e58145",
   "metadata": {},
   "outputs": [],
   "source": [
    "job = execute(qc, backend)\n",
    "result = job.result()\n",
    "quantum_state = result.get_statevector(qc, decimals=3)\n",
    "quantum_state"
   ]
  },
  {
   "cell_type": "code",
   "execution_count": null,
   "id": "72fdf69f",
   "metadata": {},
   "outputs": [],
   "source": [
    "plot_bloch_multivector(quantum_state)"
   ]
  },
  {
   "cell_type": "markdown",
   "id": "a9074b39",
   "metadata": {},
   "source": [
    "### The $\\mathbf{T}$ Gate (unfinished)\n",
    "\n",
    "The $\\mathbf{T}$ gate is the $\\mathbf{R}_\\phi$ gate where $\\phi=\\pi/4$ and is the 4th root of the $\\mathbf{Z}$ Gate."
   ]
  },
  {
   "cell_type": "markdown",
   "id": "9d3210eb",
   "metadata": {},
   "source": [
    "### The $\\mathbf{U_3}$ Gate (unfinished)\n",
    "$$\n",
    "\\mathbf{U_3}= \n",
    "\\begin{bmatrix}\n",
    "   cos(\\frac{\\theta}{2}) & -e^{iπ}sin(\\frac{\\theta}{2}) \\\\\n",
    "   e^{i\\phi}sin(\\frac{\\theta}{2}) & e^{i\\lambda+i\\phi}cos(\\frac{\\theta}{2})\n",
    "\\end{bmatrix}\n",
    " \\quad \\theta,\\phi, \\lambda\\in\\mathbb R\n",
    "$$"
   ]
  },
  {
   "cell_type": "markdown",
   "id": "6639dcea",
   "metadata": {},
   "source": [
    "### Toffoli ($\\text{cc}\\mathbf{+}$)\n",
    "\n",
    "The Toffoli gate is essentially the atom of mathematics. It is the simplest element, from which every other problem-solving technique can be compiled.\n",
    "\n",
    "$$\n",
    "\\text{cc}\\mathbf{+} = \n",
    "\\begin{bmatrix}\n",
    "  1 & 0 & 0 & 0 & 0 & 0 & 0 & 0 \\\\\n",
    "  0 & 1 & 0 & 0 & 0 & 0 & 0 & 0 \\\\\n",
    "  0 & 0 & 1 & 0 & 0 & 0 & 0 & 0 \\\\\n",
    "  0 & 0 & 0 & 1 & 0 & 0 & 0 & 0 \\\\\n",
    "  0 & 0 & 0 & 0 & 1 & 0 & 0 & 0 \\\\\n",
    "  0 & 0 & 0 & 0 & 0 & 1 & 0 & 0 \\\\\n",
    "  0 & 0 & 0 & 0 & 0 & 0 & 0 & 1 \\\\\n",
    "  0 & 0 & 0 & 0 & 0 & 0 & 1 & 0  \n",
    "\\end{bmatrix}\n",
    "$$\n"
   ]
  },
  {
   "cell_type": "markdown",
   "id": "d3d7370b",
   "metadata": {},
   "source": [
    "### CNOT (Controlled-NOT) gate\n",
    "\n",
    "$$\n",
    "\\text{CNOT} = \n",
    "\\begin{bmatrix}\n",
    "  1 & 0 & 0 & 0 \\\\\n",
    "  0 & 0 & 0 & 1 \\\\\n",
    "  0 & 0 & 1 & 0 \\\\\n",
    "  0 & 1 & 0 & 0\n",
    "\\end{bmatrix}\n",
    "$$\n"
   ]
  },
  {
   "cell_type": "markdown",
   "id": "cd6078b4",
   "metadata": {},
   "source": [
    "### $\\mathbf{V}$ gate\n",
    "\n",
    "$$\n",
    "\\mathbf{V} = \\frac{1+i}{2}\n",
    "\\begin{bmatrix}\n",
    "  1 & -i \\\\\n",
    "  -i & 1\n",
    "\\end{bmatrix}\n",
    "$$"
   ]
  },
  {
   "cell_type": "markdown",
   "id": "fd5b89d1",
   "metadata": {},
   "source": [
    "### Controlled-$\\mathbf{V}$ (gate\n",
    "\n",
    "$$\n",
    "C\\mathbf{V} = \\frac{1+i}{2}\n",
    "\\begin{bmatrix}\n",
    "  1 & 0 & 0 & 0 \\\\\n",
    "  0 & 1 & 0 & 0 \\\\\n",
    "  0 & 0 & 1 & -i \\\\\n",
    "  0 & 0 & -i & 1\n",
    "\\end{bmatrix}\n",
    "$$"
   ]
  },
  {
   "cell_type": "markdown",
   "id": "1d6efb94",
   "metadata": {},
   "source": [
    "### $\\mathbf{V_+}$ gate\n",
    "\n",
    "$$\n",
    "\\mathbf{V} = \\frac{1-i}{2}\n",
    "\\begin{bmatrix}\n",
    "  1 & i \\\\\n",
    "  i & 1\n",
    "\\end{bmatrix}\n",
    "$$"
   ]
  },
  {
   "cell_type": "markdown",
   "id": "b2474596",
   "metadata": {},
   "source": [
    "### Controlled-$\\mathbf{V_+}$ gate\n",
    "\n",
    "$$\n",
    "C\\mathbf{V} = \\frac{1-i}{2}\n",
    "\\begin{bmatrix}\n",
    "  1 & 0 & 0 & 0 \\\\\n",
    "  0 & 1 & 0 & 0 \\\\\n",
    "  0 & 0 & 1 & i \\\\\n",
    "  0 & 0 & i & 1\n",
    "\\end{bmatrix}\n",
    "$$"
   ]
  },
  {
   "cell_type": "markdown",
   "id": "340d7f9c",
   "metadata": {},
   "source": [
    "### Swap gate\n",
    "\n",
    "$$\n",
    "\\text{CNOT} = \n",
    "\\begin{bmatrix}\n",
    "  1 & 0 & 0 & 0 \\\\\n",
    "  0 & 0 & 1 & 1 \\\\\n",
    "  0 & 1 & 0 & 0 \\\\\n",
    "  0 & 0 & 0 & 1\n",
    "\\end{bmatrix}\n",
    "$$"
   ]
  },
  {
   "cell_type": "markdown",
   "id": "e273a2c2",
   "metadata": {},
   "source": [
    "### cx gate\n",
    "Also known as the controlled-X or controlled-NOT, it is an entangling gate.\n"
   ]
  },
  {
   "cell_type": "code",
   "execution_count": 7,
   "id": "287ccebb",
   "metadata": {},
   "outputs": [
    {
     "name": "stdout",
     "output_type": "stream",
     "text": [
      "Statevector([1.+0.j, 0.+0.j, 0.+0.j, 0.+0.j],\n",
      "            dims=(2, 2))\n",
      "Statevector([0.70710678+0.j, 0.        +0.j, 0.70710678+0.j,\n",
      "             0.        +0.j],\n",
      "            dims=(2, 2))\n",
      "Statevector([0.70710678+0.j, 0.        +0.j, 0.        +0.j,\n",
      "             0.70710678+0.j],\n",
      "            dims=(2, 2))\n"
     ]
    }
   ],
   "source": [
    "# Creating entanglement\n",
    "\n",
    "from qiskit import QuantumCircuit\n",
    "from qiskit.quantum_info import Statevector\n",
    "qc = QuantumCircuit(2)\n",
    "print(Statevector(qc).draw())\n",
    "qc.h(1)\n",
    "print(Statevector(qc).draw())\n",
    "qc.cx(1,0)\n",
    "print(Statevector(qc).draw())"
   ]
  },
  {
   "cell_type": "code",
   "execution_count": 8,
   "id": "57cf932b",
   "metadata": {},
   "outputs": [
    {
     "name": "stdout",
     "output_type": "stream",
     "text": [
      "Statevector([1.+0.j, 0.+0.j, 0.+0.j, 0.+0.j],\n",
      "            dims=(2, 2))\n",
      "Statevector([1.+0.j, 0.+0.j, 0.+0.j, 0.+0.j],\n",
      "            dims=(2, 2))\n",
      "Statevector([0.70710678+0.j, 0.70710678+0.j, 0.        +0.j,\n",
      "             0.        +0.j],\n",
      "            dims=(2, 2))\n",
      "Statevector([0.5+0.j, 0.5+0.j, 0.5+0.j, 0.5+0.j],\n",
      "            dims=(2, 2))\n",
      "Statevector([0.5+0.j, 0.5+0.j, 0.5+0.j, 0.5+0.j],\n",
      "            dims=(2, 2))\n",
      "Statevector([ 0.5+0.j, -0.5+0.j,  0.5+0.j, -0.5+0.j],\n",
      "            dims=(2, 2))\n",
      "Statevector([ 0.5+0.j, -0.5+0.j, -0.5+0.j,  0.5+0.j],\n",
      "            dims=(2, 2))\n"
     ]
    }
   ],
   "source": [
    "# Creating entanglement, again\n",
    "\n",
    "from qiskit import QuantumCircuit\n",
    "from qiskit.quantum_info import Statevector\n",
    "qc = QuantumCircuit(2)\n",
    "print(Statevector(qc).draw())\n",
    "qc = QuantumCircuit(2)\n",
    "print(Statevector(qc).draw())\n",
    "qc.h(0)\n",
    "print(Statevector(qc).draw())\n",
    "qc.h(1)\n",
    "print(Statevector(qc).draw())\n",
    "qc.cx(1,0)\n",
    "print(Statevector(qc).draw())\n",
    "qc.z(0)\n",
    "print(Statevector(qc).draw())\n",
    "qc.cx(1,0)\n",
    "print(Statevector(qc).draw())"
   ]
  },
  {
   "cell_type": "markdown",
   "id": "1525693f",
   "metadata": {},
   "source": [
    "### cz gate\n",
    "\n",
    "Entangling gate."
   ]
  },
  {
   "cell_type": "markdown",
   "id": "fcc9df1b",
   "metadata": {},
   "source": [
    "### Peres gate\n",
    "\n",
    "$P = A, Q = A \\oplus B, and R = (A · B) \\oplus C)$"
   ]
  },
  {
   "cell_type": "markdown",
   "id": "c160f6fe",
   "metadata": {},
   "source": [
    "## [Adding 2 qubits](https://learn.qiskit.org/course/introduction/the-atoms-of-computation#the-15-176)\n",
    "\n",
    "We are going to implement a \"half adder\" defined by:\n",
    "\n",
    "    0 + 0 = 00\n",
    "    0 + 1 = 01\n",
    "    1 + 0 = 01\n",
    "    1 + 1 = 10\n",
    "    \n",
    "As it can be seen, the LSb of the output of the adder is the output a clasical XOR gate, which in the quantum world can be implemented by the ‘controlled-NOT gate’ (CNOT) controlled by qubit 0 and targeting qubit 1. The MSb can be implemented by a Toffoli gate (that is like an clasical AND gate)."
   ]
  },
  {
   "cell_type": "code",
   "execution_count": null,
   "id": "b1466574",
   "metadata": {},
   "outputs": [],
   "source": [
    "qc = QuantumCircuit(4 ,2)\n",
    "backend = Aer.get_backend('statevector_simulator')\n",
    "qc.x(0) # By default, the qubits are |0⟩ and this creates |1⟩.\n",
    "qc.x(1)\n",
    "qc.cx(0,2)\n",
    "qc.cx(1,2)\n",
    "qc.ccx(0,1,3)\n",
    "qc.measure(2,0)\n",
    "qc.measure(3,1)\n",
    "qc.draw()"
   ]
  },
  {
   "cell_type": "code",
   "execution_count": null,
   "id": "57978e42",
   "metadata": {},
   "outputs": [],
   "source": [
    "job = execute(qc, backend)\n",
    "result = job.result()\n",
    "quantum_state = result.get_statevector(qc, decimals=3)\n",
    "quantum_state"
   ]
  },
  {
   "cell_type": "code",
   "execution_count": null,
   "id": "d79dcc80",
   "metadata": {},
   "outputs": [],
   "source": [
    "result.get_counts()"
   ]
  },
  {
   "cell_type": "markdown",
   "id": "14c10d73",
   "metadata": {},
   "source": [
    "## Using entanglement for super-dense coding"
   ]
  },
  {
   "cell_type": "code",
   "execution_count": 13,
   "id": "08a92cc1",
   "metadata": {},
   "outputs": [
    {
     "name": "stdout",
     "output_type": "stream",
     "text": [
      "Statevector([0.70710678+0.j, 0.        +0.j, 0.        +0.j,\n",
      "             0.70710678+0.j],\n",
      "            dims=(2, 2))\n"
     ]
    },
    {
     "data": {
      "text/plain": [
       "<qiskit.circuit.instructionset.InstructionSet at 0x7f1f6fb9cfc0>"
      ]
     },
     "execution_count": 13,
     "metadata": {},
     "output_type": "execute_result"
    }
   ],
   "source": [
    "MESSAGE = '00'\n",
    "\n",
    "MESSAGE = '00'\n",
    "\n",
    "qc_alice = QuantumCircuit(2,2)\n",
    "qc_alice.h(1)\n",
    "qc_alice.cx(1,0)\n",
    "\n",
    "if MESSAGE[-2]=='1':\n",
    "    qc_alice.z(1)\n",
    "if MESSAGE[-1]=='1':\n",
    "    qc_alice.x(1)\n",
    "\n",
    "print(Statevector(qc_alice).draw())\n",
    "\n",
    "qc_bob = QuantumCircuit(2,2)\n",
    "# Bob unentangles\n",
    "qc_bob.cx(1,0)\n",
    "qc_bob.h(1)\n",
    "# Then measures\n",
    "qc_bob.measure([0,1],[0,1])\n",
    "\n",
    "from qiskit import Aer\n",
    "backend = Aer.get_backend('aer_simulator')\n",
    "\n",
    "# Bob measures\n",
    "qc_bob = QuantumCircuit(2,2)\n",
    "qc_bob.measure([0,1],[0,1])\n",
    "\n",
    "backend.run(qc_alice.compose(qc_bob)).result().get_counts()"
   ]
  },
  {
   "cell_type": "markdown",
   "id": "294781d7",
   "metadata": {},
   "source": [
    "## The [Deutsch–Jozsa algorithm](https://en.wikipedia.org/wiki/Deutsch%E2%80%93Jozsa_algorithm)\n",
    "\n",
    "In the Deutsch–Jozsa problem, we are given a black box quantum computer known as an \"oracle\" that implements some function $f\\colon\\{0,1\\}^n\\rightarrow \\{0,1\\}$. The function takes $n$-digit binary values as input and produces either a 0 or a 1 as output for each such value. We are promised that the function is either \"constant\" (0 on all possible inputs or 1 on all possible inputs) or \"balanced\" (returns 1 for half of the input function domain and 0 for the other half). The task then is to determine if $f$ is constant or balanced by using the oracle."
   ]
  },
  {
   "cell_type": "markdown",
   "id": "b19d6381",
   "metadata": {},
   "source": [
    "## Superposition\n",
    "When we say the spin of a particle is in a superposition of states, it simply means it is in a linear combination of up spin and down spin. Here is the equation in the Dirac notation."
   ]
  },
  {
   "cell_type": "markdown",
   "id": "a6c9f884",
   "metadata": {},
   "source": [
    "## Links\n",
    "\n",
    "https://jonathan-hui.medium.com/qc-quantum-computing-series-10ddd7977abd\n"
   ]
  }
 ],
 "metadata": {
  "kernelspec": {
   "display_name": "Python 3 (ipykernel)",
   "language": "python",
   "name": "python3"
  },
  "language_info": {
   "codemirror_mode": {
    "name": "ipython",
    "version": 3
   },
   "file_extension": ".py",
   "mimetype": "text/x-python",
   "name": "python",
   "nbconvert_exporter": "python",
   "pygments_lexer": "ipython3",
   "version": "3.10.5"
  }
 },
 "nbformat": 4,
 "nbformat_minor": 5
}
